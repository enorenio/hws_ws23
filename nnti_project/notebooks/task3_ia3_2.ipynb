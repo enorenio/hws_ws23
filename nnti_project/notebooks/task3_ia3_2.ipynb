{
 "cells": [
  {
   "cell_type": "code",
   "execution_count": 1,
   "id": "initial_id",
   "metadata": {
    "collapsed": true,
    "ExecuteTime": {
     "end_time": "2024-03-17T08:42:17.998353Z",
     "start_time": "2024-03-17T08:42:11.471705Z"
    }
   },
   "outputs": [],
   "source": [
    "from datasets import load_dataset\n",
    "from transformers import AutoTokenizer, AutoModelForCausalLM, TrainingArguments, Trainer\n",
    "import torch\n",
    "from functools import partial\n",
    "import time\n",
    "\n",
    "DATASET = 'hackathon-pln-es/spanish-to-quechua'\n",
    "MODEL_NAME = 'facebook/xglm-564M'\n",
    "SEQ_LEN   = 32"
   ]
  },
  {
   "cell_type": "code",
   "outputs": [],
   "source": [
    "def getDataset():\n",
    "\n",
    "    print(f'\\nin getDataset')\n",
    "\n",
    "    #data and tokenizer\n",
    "    data = load_dataset(DATASET)\n",
    "    tokenizer = getTokenizer(MODEL_NAME)\n",
    "\n",
    "    print(data)\n",
    "\n",
    "    #split data\n",
    "    # data = data[\"train\"].train_test_split(test_size=.2, seed=1)\n",
    "\n",
    "    data = data.map( preprocess,\n",
    "                     # batched = True,\n",
    "                     # num_proc = 4,\n",
    "                     fn_kwargs = {'tokenizer' : tokenizer},\n",
    "                     remove_columns = data['train'].column_names\n",
    "                     )\n",
    "\n",
    "    lm_dataset = data.map(group_texts,\n",
    "                          batched=True,\n",
    "                          num_proc=4,\n",
    "                          fn_kwargs = {'block_size' : SEQ_LEN } )\n",
    "\n",
    "    print(lm_dataset['train'])\n",
    "    print(lm_dataset['train'][0])\n",
    "\n",
    "    return lm_dataset\n",
    "\n",
    "def getTokenizer(TOKENIZER):\n",
    "    tokenizer = AutoTokenizer.from_pretrained(TOKENIZER)\n",
    "    # tokenizer.pad_token = tokenizer.eos_token\n",
    "    return tokenizer\n",
    "\n",
    "\n",
    "def preprocess(data_row, tokenizer):\n",
    "    return tokenizer(data_row['qu'])\n",
    "\n",
    "def group_texts(examples, block_size):\n",
    "    # Concatenate all texts.\n",
    "    concatenated_examples = {k: sum(examples[k], []) for k in examples.keys()}\n",
    "    total_length = len(concatenated_examples[list(examples.keys())[0]])\n",
    "    # We drop the small remainder, we could add padding if the model supported it instead of this drop, you can\n",
    "    # customize this part to your needs.\n",
    "\n",
    "    # if total_length >= block_size:\n",
    "    total_length = (total_length // block_size) * block_size\n",
    "\n",
    "    # Split by chunks of block_size.\n",
    "    result = {\n",
    "        k: [t[i : i + block_size] for i in range(0, total_length, block_size)]\n",
    "        for k, t in concatenated_examples.items()\n",
    "    }\n",
    "\n",
    "    # labels because the model expects the argument to be named labels\n",
    "    result[\"labels\"] = result[\"input_ids\"].copy()\n",
    "    # del result['input_ids']\n",
    "    return result"
   ],
   "metadata": {
    "collapsed": false,
    "ExecuteTime": {
     "end_time": "2024-03-17T08:42:18.011055Z",
     "start_time": "2024-03-17T08:42:17.999959Z"
    }
   },
   "id": "9f63f48fd745b375",
   "execution_count": 2
  },
  {
   "cell_type": "code",
   "outputs": [],
   "source": [
    "import torch.nn as nn\n",
    "import torch.nn.functional as F\n",
    "import re\n",
    "\n",
    "def list_attributes(obj):\n",
    "    attrs = [attr for attr in dir(obj) if not attr.startswith('__') and not callable(getattr(obj, attr))]\n",
    "    return attrs\n",
    "\n",
    "class IA3Linear(nn.Module):\n",
    "    def __init__(self, linear_layer):\n",
    "        super().__init__()\n",
    "        self.in_features = linear_layer.in_features\n",
    "        self.out_features = linear_layer.out_features\n",
    "        self.weight = linear_layer.weight\n",
    "        self.bias = linear_layer.bias\n",
    "        self.multi_lora_a = nn.Parameter(torch.ones(1, linear_layer.in_features))\n",
    "        self.multi_lora_b = nn.Parameter(torch.ones(linear_layer.out_features, 1))\n",
    "    \n",
    "    def forward(self, input):\n",
    "        if self.multi_lora_a.requires_grad:\n",
    "            hidden = F.linear((input * self.multi_lora_a.flatten()), self.weight, self.bias)\n",
    "        else:\n",
    "            hidden = F.linear(input, self.weight, self.bias)\n",
    "        if self.multi_lora_b.requires_grad:\n",
    "            hidden = hidden * self.multi_lora_b.flatten()\n",
    "        return hidden\n",
    "    \n",
    "    def extra_repr(self):\n",
    "        return \"in_features={}, out_features={}, bias={}\".format(\n",
    "            self.in_features, self.out_features, self.bias is not None\n",
    "        )\n",
    "\n",
    "def modify_with_ia3(transformer, config):\n",
    "    for m_name, module in dict(transformer.named_modules()).items():\n",
    "        if re.fullmatch(config.lora_modules, m_name):\n",
    "            if re.fullmatch(\".*fc.*\", m_name):\n",
    "                assert isinstance(\n",
    "                    module, nn.Linear\n",
    "                ), f\"iA3 can only be applied to torch.nn.Linear, but {module} is {type(module)}.\"\n",
    "                setattr(\n",
    "                    transformer,\n",
    "                    m_name,\n",
    "                    IA3Linear(module),\n",
    "                )\n",
    "                # print(m_name, getattr(transformer, m_name))\n",
    "            else:\n",
    "                for c_name, layer in dict(module.named_children()).items():\n",
    "                    if re.fullmatch(config.lora_layers, c_name):\n",
    "                        assert isinstance(\n",
    "                            layer, nn.Linear\n",
    "                        ), f\"iA3 can only be applied to torch.nn.Linear, but {layer} is {type(layer)}.\"\n",
    "                        setattr(\n",
    "                            module,\n",
    "                            c_name,\n",
    "                            IA3Linear(layer),\n",
    "                        )\n",
    "                        # print(c_name, getattr(module, c_name))\n",
    "    return transformer\n",
    "\n",
    "def modify_transformer(transformer, config):\n",
    "    transformer = modify_with_ia3(transformer, config)\n",
    "    return transformer\n",
    "\n",
    "def get_transformer(model, config):\n",
    "    # print(model)\n",
    "    model = modify_transformer(model, config)\n",
    "    # print(model)\n",
    "    return model"
   ],
   "metadata": {
    "collapsed": false,
    "ExecuteTime": {
     "end_time": "2024-03-17T09:36:00.473543Z",
     "start_time": "2024-03-17T09:36:00.463163Z"
    }
   },
   "id": "b23c10d5b705f6af",
   "execution_count": 114
  },
  {
   "cell_type": "code",
   "outputs": [],
   "source": [
    "class Config(object):\n",
    "    def __init__(self, trainable_param_names=\".*\", model_modifier=\"\", num_steps=300, lora_modules=\"none\", lora_layers=\"none\", origin_model=\"facebook/xglm-564M\"):\n",
    "        self.trainable_param_names = trainable_param_names\n",
    "        self.model_modifier = model_modifier\n",
    "        self.num_steps = num_steps\n",
    "        self.lora_modules = lora_modules\n",
    "        self.lora_layers = lora_layers\n",
    "        self.origin_model = origin_model"
   ],
   "metadata": {
    "collapsed": false,
    "ExecuteTime": {
     "end_time": "2024-03-17T09:36:01.108917Z",
     "start_time": "2024-03-17T09:36:01.104899Z"
    }
   },
   "id": "f16eedf74b70c10c",
   "execution_count": 115
  },
  {
   "cell_type": "code",
   "outputs": [
    {
     "name": "stdout",
     "output_type": "stream",
     "text": [
      "Total trainable parameters in origin model : 564463616\n",
      "Total trainable parameters in iA3 model : 344064\n",
      "iA3 model params : 0.060954150143133407 % of the original model\n"
     ]
    }
   ],
   "source": [
    "config = Config(\n",
    "    # lora_modules=\".*SelfAttention|.*EncDecAttention|.*DenseReluDense\",\n",
    "    lora_modules=\".*fc.*|.*self_attn\",\n",
    "    lora_layers=\"k_proj|v_proj\",\n",
    "    trainable_param_names=\".*lora_b.*\",\n",
    "    model_modifier=\"lora\",\n",
    "    num_steps=1000,\n",
    "    origin_model=\"facebook/xglm-564M\"\n",
    ")\n",
    "\n",
    "model = AutoModelForCausalLM.from_pretrained(config.origin_model)\n",
    "origin_model_parameters = sum(p.numel() for p in model.parameters() if p.requires_grad)\n",
    "print(f\"Total trainable parameters in origin model : {origin_model_parameters}\")\n",
    "\n",
    "for param in model.parameters():\n",
    "    param.requires_grad = False\n",
    "    \n",
    "model = get_transformer(model, config)\n",
    "\n",
    "model_params = sum(p.numel() for p in model.parameters() if p.requires_grad)\n",
    "print(f\"Total trainable parameters in iA3 model : {model_params}\")\n",
    "\n",
    "print(f\"iA3 model params : {(model_params/origin_model_parameters)*100} % of the original model\")"
   ],
   "metadata": {
    "collapsed": false,
    "ExecuteTime": {
     "end_time": "2024-03-17T09:38:17.077293Z",
     "start_time": "2024-03-17T09:38:16.014834Z"
    }
   },
   "id": "9078826b59d95d4f",
   "execution_count": 117
  },
  {
   "cell_type": "code",
   "outputs": [
    {
     "name": "stdout",
     "output_type": "stream",
     "text": [
      "\n",
      "in getDataset\n",
      "DatasetDict({\n",
      "    train: Dataset({\n",
      "        features: ['es', 'qu'],\n",
      "        num_rows: 102747\n",
      "    })\n",
      "    validation: Dataset({\n",
      "        features: ['es', 'qu'],\n",
      "        num_rows: 12844\n",
      "    })\n",
      "    test: Dataset({\n",
      "        features: ['es', 'qu'],\n",
      "        num_rows: 12843\n",
      "    })\n",
      "})\n",
      "Dataset({\n",
      "    features: ['input_ids', 'attention_mask', 'labels'],\n",
      "    num_rows: 80787\n",
      "})\n",
      "{'input_ids': [2, 4049, 39822, 27076, 2800, 3451, 27076, 7382, 106026, 129598, 2597, 6580, 10988, 81990, 78702, 247, 134073, 5, 78511, 1190, 21167, 133189, 78702, 116, 118, 42783, 162637, 80, 65704, 81990, 6606, 134073], 'attention_mask': [1, 1, 1, 1, 1, 1, 1, 1, 1, 1, 1, 1, 1, 1, 1, 1, 1, 1, 1, 1, 1, 1, 1, 1, 1, 1, 1, 1, 1, 1, 1, 1], 'labels': [2, 4049, 39822, 27076, 2800, 3451, 27076, 7382, 106026, 129598, 2597, 6580, 10988, 81990, 78702, 247, 134073, 5, 78511, 1190, 21167, 133189, 78702, 116, 118, 42783, 162637, 80, 65704, 81990, 6606, 134073]}\n"
     ]
    }
   ],
   "source": [
    "# Assuming getDataset() function exists and returns a dataset\n",
    "lm_dataset = getDataset()"
   ],
   "metadata": {
    "collapsed": false,
    "ExecuteTime": {
     "end_time": "2024-03-17T09:38:34.497126Z",
     "start_time": "2024-03-17T09:38:27.681501Z"
    }
   },
   "id": "aec10d5ecc32d04c",
   "execution_count": 118
  },
  {
   "cell_type": "code",
   "outputs": [],
   "source": [
    "import os\n",
    "\n",
    "os.environ[\"WANDB_PROJECT\"] = \"XGLM finetuning\"  # name your W&B project\n",
    "os.environ[\"WANDB_LOG_MODEL\"] = \"checkpoint\"\n",
    "os.environ[\"WANDB_WATCH\"]=\"all\""
   ],
   "metadata": {
    "collapsed": false,
    "ExecuteTime": {
     "end_time": "2024-03-17T09:45:40.228858Z",
     "start_time": "2024-03-17T09:45:40.225653Z"
    }
   },
   "id": "de8c0233b30b7d2e",
   "execution_count": 119
  },
  {
   "cell_type": "code",
   "outputs": [],
   "source": [
    "training_args = TrainingArguments(\n",
    "    output_dir=\"xglm_ia3\",\n",
    "    evaluation_strategy = \"steps\",\n",
    "    eval_steps=500,\n",
    "    save_total_limit=2,\n",
    "    save_steps=500,\n",
    "    load_best_model_at_end=True,\n",
    "    learning_rate=2e-5,\n",
    "    weight_decay=0.01,\n",
    "    report_to=[\"wandb\"],\n",
    "    run_name=\"IA3_ONE\",\n",
    "    gradient_accumulation_steps=4,\n",
    ")\n",
    "\n",
    "trainer = Trainer(\n",
    "    model=model,\n",
    "    args=training_args,\n",
    "    train_dataset=lm_dataset[\"train\"],\n",
    "    eval_dataset=lm_dataset[\"validation\"],\n",
    ")"
   ],
   "metadata": {
    "collapsed": false,
    "ExecuteTime": {
     "end_time": "2024-03-17T09:51:50.441716Z",
     "start_time": "2024-03-17T09:51:50.431233Z"
    }
   },
   "id": "d0abba06b313df73",
   "execution_count": 122
  },
  {
   "cell_type": "code",
   "outputs": [
    {
     "data": {
      "text/plain": "<IPython.core.display.HTML object>",
      "text/html": "\n    <div>\n      \n      <progress value='501' max='7572' style='width:300px; height:20px; vertical-align: middle;'></progress>\n      [ 501/7572 04:24 < 1:02:22, 1.89 it/s, Epoch 0.20/3]\n    </div>\n    <table border=\"1\" class=\"dataframe\">\n  <thead>\n <tr style=\"text-align: left;\">\n      <th>Step</th>\n      <th>Training Loss</th>\n      <th>Validation Loss</th>\n    </tr>\n  </thead>\n  <tbody>\n    <tr>\n      <td>500</td>\n      <td>7.190800</td>\n      <td>6.932671</td>\n    </tr>\n  </tbody>\n</table><p>"
     },
     "metadata": {},
     "output_type": "display_data"
    },
    {
     "data": {
      "text/plain": "<IPython.core.display.HTML object>",
      "text/html": "\n    <div>\n      \n      <progress value='1001' max='7572' style='width:300px; height:20px; vertical-align: middle;'></progress>\n      [1001/7572 12:22 < 1:21:21, 1.35 it/s, Epoch 0.40/3]\n    </div>\n    <table border=\"1\" class=\"dataframe\">\n  <thead>\n <tr style=\"text-align: left;\">\n      <th>Step</th>\n      <th>Training Loss</th>\n      <th>Validation Loss</th>\n    </tr>\n  </thead>\n  <tbody>\n    <tr>\n      <td>500</td>\n      <td>7.190800</td>\n      <td>6.932671</td>\n    </tr>\n    <tr>\n      <td>1000</td>\n      <td>7.056700</td>\n      <td>6.821011</td>\n    </tr>\n  </tbody>\n</table><p>"
     },
     "metadata": {},
     "output_type": "display_data"
    },
    {
     "data": {
      "text/plain": "<IPython.core.display.HTML object>",
      "text/html": "\n    <div>\n      \n      <progress value='1501' max='7572' style='width:300px; height:20px; vertical-align: middle;'></progress>\n      [1501/7572 20:30 < 1:23:04, 1.22 it/s, Epoch 0.59/3]\n    </div>\n    <table border=\"1\" class=\"dataframe\">\n  <thead>\n <tr style=\"text-align: left;\">\n      <th>Step</th>\n      <th>Training Loss</th>\n      <th>Validation Loss</th>\n    </tr>\n  </thead>\n  <tbody>\n    <tr>\n      <td>500</td>\n      <td>7.190800</td>\n      <td>6.932671</td>\n    </tr>\n    <tr>\n      <td>1000</td>\n      <td>7.056700</td>\n      <td>6.821011</td>\n    </tr>\n    <tr>\n      <td>1500</td>\n      <td>6.964300</td>\n      <td>6.730379</td>\n    </tr>\n  </tbody>\n</table><p>"
     },
     "metadata": {},
     "output_type": "display_data"
    },
    {
     "data": {
      "text/plain": "<IPython.core.display.HTML object>",
      "text/html": "\n    <div>\n      \n      <progress value='2001' max='7572' style='width:300px; height:20px; vertical-align: middle;'></progress>\n      [2001/7572 28:45 < 1:20:08, 1.16 it/s, Epoch 0.79/3]\n    </div>\n    <table border=\"1\" class=\"dataframe\">\n  <thead>\n <tr style=\"text-align: left;\">\n      <th>Step</th>\n      <th>Training Loss</th>\n      <th>Validation Loss</th>\n    </tr>\n  </thead>\n  <tbody>\n    <tr>\n      <td>500</td>\n      <td>7.190800</td>\n      <td>6.932671</td>\n    </tr>\n    <tr>\n      <td>1000</td>\n      <td>7.056700</td>\n      <td>6.821011</td>\n    </tr>\n    <tr>\n      <td>1500</td>\n      <td>6.964300</td>\n      <td>6.730379</td>\n    </tr>\n    <tr>\n      <td>2000</td>\n      <td>6.886400</td>\n      <td>6.654659</td>\n    </tr>\n  </tbody>\n</table><p>"
     },
     "metadata": {},
     "output_type": "display_data"
    },
    {
     "data": {
      "text/plain": "<IPython.core.display.HTML object>",
      "text/html": "\n    <div>\n      \n      <progress value='2501' max='7572' style='width:300px; height:20px; vertical-align: middle;'></progress>\n      [2501/7572 37:02 < 1:15:09, 1.12 it/s, Epoch 0.99/3]\n    </div>\n    <table border=\"1\" class=\"dataframe\">\n  <thead>\n <tr style=\"text-align: left;\">\n      <th>Step</th>\n      <th>Training Loss</th>\n      <th>Validation Loss</th>\n    </tr>\n  </thead>\n  <tbody>\n    <tr>\n      <td>500</td>\n      <td>7.190800</td>\n      <td>6.932671</td>\n    </tr>\n    <tr>\n      <td>1000</td>\n      <td>7.056700</td>\n      <td>6.821011</td>\n    </tr>\n    <tr>\n      <td>1500</td>\n      <td>6.964300</td>\n      <td>6.730379</td>\n    </tr>\n    <tr>\n      <td>2000</td>\n      <td>6.886400</td>\n      <td>6.654659</td>\n    </tr>\n    <tr>\n      <td>2500</td>\n      <td>6.806800</td>\n      <td>6.590432</td>\n    </tr>\n  </tbody>\n</table><p>"
     },
     "metadata": {},
     "output_type": "display_data"
    },
    {
     "data": {
      "text/plain": "<IPython.core.display.HTML object>",
      "text/html": "\n    <div>\n      \n      <progress value='3001' max='7572' style='width:300px; height:20px; vertical-align: middle;'></progress>\n      [3001/7572 45:29 < 1:09:20, 1.10 it/s, Epoch 1.19/3]\n    </div>\n    <table border=\"1\" class=\"dataframe\">\n  <thead>\n <tr style=\"text-align: left;\">\n      <th>Step</th>\n      <th>Training Loss</th>\n      <th>Validation Loss</th>\n    </tr>\n  </thead>\n  <tbody>\n    <tr>\n      <td>500</td>\n      <td>7.190800</td>\n      <td>6.932671</td>\n    </tr>\n    <tr>\n      <td>1000</td>\n      <td>7.056700</td>\n      <td>6.821011</td>\n    </tr>\n    <tr>\n      <td>1500</td>\n      <td>6.964300</td>\n      <td>6.730379</td>\n    </tr>\n    <tr>\n      <td>2000</td>\n      <td>6.886400</td>\n      <td>6.654659</td>\n    </tr>\n    <tr>\n      <td>2500</td>\n      <td>6.806800</td>\n      <td>6.590432</td>\n    </tr>\n    <tr>\n      <td>3000</td>\n      <td>6.755500</td>\n      <td>6.536036</td>\n    </tr>\n  </tbody>\n</table><p>"
     },
     "metadata": {},
     "output_type": "display_data"
    },
    {
     "data": {
      "text/plain": "<IPython.core.display.HTML object>",
      "text/html": "\n    <div>\n      \n      <progress value='3501' max='7572' style='width:300px; height:20px; vertical-align: middle;'></progress>\n      [3501/7572 53:35 < 1:02:20, 1.09 it/s, Epoch 1.39/3]\n    </div>\n    <table border=\"1\" class=\"dataframe\">\n  <thead>\n <tr style=\"text-align: left;\">\n      <th>Step</th>\n      <th>Training Loss</th>\n      <th>Validation Loss</th>\n    </tr>\n  </thead>\n  <tbody>\n    <tr>\n      <td>500</td>\n      <td>7.190800</td>\n      <td>6.932671</td>\n    </tr>\n    <tr>\n      <td>1000</td>\n      <td>7.056700</td>\n      <td>6.821011</td>\n    </tr>\n    <tr>\n      <td>1500</td>\n      <td>6.964300</td>\n      <td>6.730379</td>\n    </tr>\n    <tr>\n      <td>2000</td>\n      <td>6.886400</td>\n      <td>6.654659</td>\n    </tr>\n    <tr>\n      <td>2500</td>\n      <td>6.806800</td>\n      <td>6.590432</td>\n    </tr>\n    <tr>\n      <td>3000</td>\n      <td>6.755500</td>\n      <td>6.536036</td>\n    </tr>\n    <tr>\n      <td>3500</td>\n      <td>6.695900</td>\n      <td>6.490142</td>\n    </tr>\n  </tbody>\n</table><p>"
     },
     "metadata": {},
     "output_type": "display_data"
    },
    {
     "data": {
      "text/plain": "<IPython.core.display.HTML object>",
      "text/html": "\n    <div>\n      \n      <progress value='4001' max='7572' style='width:300px; height:20px; vertical-align: middle;'></progress>\n      [4001/7572 1:01:21 < 54:47, 1.09 it/s, Epoch 1.58/3]\n    </div>\n    <table border=\"1\" class=\"dataframe\">\n  <thead>\n <tr style=\"text-align: left;\">\n      <th>Step</th>\n      <th>Training Loss</th>\n      <th>Validation Loss</th>\n    </tr>\n  </thead>\n  <tbody>\n    <tr>\n      <td>500</td>\n      <td>7.190800</td>\n      <td>6.932671</td>\n    </tr>\n    <tr>\n      <td>1000</td>\n      <td>7.056700</td>\n      <td>6.821011</td>\n    </tr>\n    <tr>\n      <td>1500</td>\n      <td>6.964300</td>\n      <td>6.730379</td>\n    </tr>\n    <tr>\n      <td>2000</td>\n      <td>6.886400</td>\n      <td>6.654659</td>\n    </tr>\n    <tr>\n      <td>2500</td>\n      <td>6.806800</td>\n      <td>6.590432</td>\n    </tr>\n    <tr>\n      <td>3000</td>\n      <td>6.755500</td>\n      <td>6.536036</td>\n    </tr>\n    <tr>\n      <td>3500</td>\n      <td>6.695900</td>\n      <td>6.490142</td>\n    </tr>\n    <tr>\n      <td>4000</td>\n      <td>6.661100</td>\n      <td>6.451512</td>\n    </tr>\n  </tbody>\n</table><p>"
     },
     "metadata": {},
     "output_type": "display_data"
    },
    {
     "data": {
      "text/plain": "<IPython.core.display.HTML object>",
      "text/html": "\n    <div>\n      \n      <progress value='4501' max='7572' style='width:300px; height:20px; vertical-align: middle;'></progress>\n      [4501/7572 1:09:14 < 47:16, 1.08 it/s, Epoch 1.78/3]\n    </div>\n    <table border=\"1\" class=\"dataframe\">\n  <thead>\n <tr style=\"text-align: left;\">\n      <th>Step</th>\n      <th>Training Loss</th>\n      <th>Validation Loss</th>\n    </tr>\n  </thead>\n  <tbody>\n    <tr>\n      <td>500</td>\n      <td>7.190800</td>\n      <td>6.932671</td>\n    </tr>\n    <tr>\n      <td>1000</td>\n      <td>7.056700</td>\n      <td>6.821011</td>\n    </tr>\n    <tr>\n      <td>1500</td>\n      <td>6.964300</td>\n      <td>6.730379</td>\n    </tr>\n    <tr>\n      <td>2000</td>\n      <td>6.886400</td>\n      <td>6.654659</td>\n    </tr>\n    <tr>\n      <td>2500</td>\n      <td>6.806800</td>\n      <td>6.590432</td>\n    </tr>\n    <tr>\n      <td>3000</td>\n      <td>6.755500</td>\n      <td>6.536036</td>\n    </tr>\n    <tr>\n      <td>3500</td>\n      <td>6.695900</td>\n      <td>6.490142</td>\n    </tr>\n    <tr>\n      <td>4000</td>\n      <td>6.661100</td>\n      <td>6.451512</td>\n    </tr>\n    <tr>\n      <td>4500</td>\n      <td>6.631600</td>\n      <td>6.419529</td>\n    </tr>\n  </tbody>\n</table><p>"
     },
     "metadata": {},
     "output_type": "display_data"
    },
    {
     "data": {
      "text/plain": "<IPython.core.display.HTML object>",
      "text/html": "\n    <div>\n      \n      <progress value='5001' max='7572' style='width:300px; height:20px; vertical-align: middle;'></progress>\n      [5001/7572 1:17:06 < 39:39, 1.08 it/s, Epoch 1.98/3]\n    </div>\n    <table border=\"1\" class=\"dataframe\">\n  <thead>\n <tr style=\"text-align: left;\">\n      <th>Step</th>\n      <th>Training Loss</th>\n      <th>Validation Loss</th>\n    </tr>\n  </thead>\n  <tbody>\n    <tr>\n      <td>500</td>\n      <td>7.190800</td>\n      <td>6.932671</td>\n    </tr>\n    <tr>\n      <td>1000</td>\n      <td>7.056700</td>\n      <td>6.821011</td>\n    </tr>\n    <tr>\n      <td>1500</td>\n      <td>6.964300</td>\n      <td>6.730379</td>\n    </tr>\n    <tr>\n      <td>2000</td>\n      <td>6.886400</td>\n      <td>6.654659</td>\n    </tr>\n    <tr>\n      <td>2500</td>\n      <td>6.806800</td>\n      <td>6.590432</td>\n    </tr>\n    <tr>\n      <td>3000</td>\n      <td>6.755500</td>\n      <td>6.536036</td>\n    </tr>\n    <tr>\n      <td>3500</td>\n      <td>6.695900</td>\n      <td>6.490142</td>\n    </tr>\n    <tr>\n      <td>4000</td>\n      <td>6.661100</td>\n      <td>6.451512</td>\n    </tr>\n    <tr>\n      <td>4500</td>\n      <td>6.631600</td>\n      <td>6.419529</td>\n    </tr>\n    <tr>\n      <td>5000</td>\n      <td>6.605400</td>\n      <td>6.393302</td>\n    </tr>\n  </tbody>\n</table><p>"
     },
     "metadata": {},
     "output_type": "display_data"
    },
    {
     "data": {
      "text/plain": "<IPython.core.display.HTML object>",
      "text/html": "\n    <div>\n      \n      <progress value='5131' max='7572' style='width:300px; height:20px; vertical-align: middle;'></progress>\n      [5131/7572 1:21:34 < 38:49, 1.05 it/s, Epoch 2.03/3]\n    </div>\n    <table border=\"1\" class=\"dataframe\">\n  <thead>\n <tr style=\"text-align: left;\">\n      <th>Step</th>\n      <th>Training Loss</th>\n      <th>Validation Loss</th>\n    </tr>\n  </thead>\n  <tbody>\n    <tr>\n      <td>500</td>\n      <td>7.190800</td>\n      <td>6.932671</td>\n    </tr>\n    <tr>\n      <td>1000</td>\n      <td>7.056700</td>\n      <td>6.821011</td>\n    </tr>\n    <tr>\n      <td>1500</td>\n      <td>6.964300</td>\n      <td>6.730379</td>\n    </tr>\n    <tr>\n      <td>2000</td>\n      <td>6.886400</td>\n      <td>6.654659</td>\n    </tr>\n    <tr>\n      <td>2500</td>\n      <td>6.806800</td>\n      <td>6.590432</td>\n    </tr>\n    <tr>\n      <td>3000</td>\n      <td>6.755500</td>\n      <td>6.536036</td>\n    </tr>\n    <tr>\n      <td>3500</td>\n      <td>6.695900</td>\n      <td>6.490142</td>\n    </tr>\n    <tr>\n      <td>4000</td>\n      <td>6.661100</td>\n      <td>6.451512</td>\n    </tr>\n    <tr>\n      <td>4500</td>\n      <td>6.631600</td>\n      <td>6.419529</td>\n    </tr>\n    <tr>\n      <td>5000</td>\n      <td>6.605400</td>\n      <td>6.393302</td>\n    </tr>\n  </tbody>\n</table><p>"
     },
     "metadata": {},
     "output_type": "display_data"
    },
    {
     "data": {
      "text/plain": "<IPython.core.display.HTML object>",
      "text/html": "\n    <div>\n      \n      <progress value='5501' max='7572' style='width:300px; height:20px; vertical-align: middle;'></progress>\n      [5501/7572 1:24:42 < 31:54, 1.08 it/s, Epoch 2.18/3]\n    </div>\n    <table border=\"1\" class=\"dataframe\">\n  <thead>\n <tr style=\"text-align: left;\">\n      <th>Step</th>\n      <th>Training Loss</th>\n      <th>Validation Loss</th>\n    </tr>\n  </thead>\n  <tbody>\n    <tr>\n      <td>500</td>\n      <td>7.190800</td>\n      <td>6.932671</td>\n    </tr>\n    <tr>\n      <td>1000</td>\n      <td>7.056700</td>\n      <td>6.821011</td>\n    </tr>\n    <tr>\n      <td>1500</td>\n      <td>6.964300</td>\n      <td>6.730379</td>\n    </tr>\n    <tr>\n      <td>2000</td>\n      <td>6.886400</td>\n      <td>6.654659</td>\n    </tr>\n    <tr>\n      <td>2500</td>\n      <td>6.806800</td>\n      <td>6.590432</td>\n    </tr>\n    <tr>\n      <td>3000</td>\n      <td>6.755500</td>\n      <td>6.536036</td>\n    </tr>\n    <tr>\n      <td>3500</td>\n      <td>6.695900</td>\n      <td>6.490142</td>\n    </tr>\n    <tr>\n      <td>4000</td>\n      <td>6.661100</td>\n      <td>6.451512</td>\n    </tr>\n    <tr>\n      <td>4500</td>\n      <td>6.631600</td>\n      <td>6.419529</td>\n    </tr>\n    <tr>\n      <td>5000</td>\n      <td>6.605400</td>\n      <td>6.393302</td>\n    </tr>\n    <tr>\n      <td>5500</td>\n      <td>6.575500</td>\n      <td>6.372337</td>\n    </tr>\n  </tbody>\n</table><p>"
     },
     "metadata": {},
     "output_type": "display_data"
    },
    {
     "data": {
      "text/plain": "<IPython.core.display.HTML object>",
      "text/html": "\n    <div>\n      \n      <progress value='6001' max='7572' style='width:300px; height:20px; vertical-align: middle;'></progress>\n      [6001/7572 1:32:52 < 24:19, 1.08 it/s, Epoch 2.38/3]\n    </div>\n    <table border=\"1\" class=\"dataframe\">\n  <thead>\n <tr style=\"text-align: left;\">\n      <th>Step</th>\n      <th>Training Loss</th>\n      <th>Validation Loss</th>\n    </tr>\n  </thead>\n  <tbody>\n    <tr>\n      <td>500</td>\n      <td>7.190800</td>\n      <td>6.932671</td>\n    </tr>\n    <tr>\n      <td>1000</td>\n      <td>7.056700</td>\n      <td>6.821011</td>\n    </tr>\n    <tr>\n      <td>1500</td>\n      <td>6.964300</td>\n      <td>6.730379</td>\n    </tr>\n    <tr>\n      <td>2000</td>\n      <td>6.886400</td>\n      <td>6.654659</td>\n    </tr>\n    <tr>\n      <td>2500</td>\n      <td>6.806800</td>\n      <td>6.590432</td>\n    </tr>\n    <tr>\n      <td>3000</td>\n      <td>6.755500</td>\n      <td>6.536036</td>\n    </tr>\n    <tr>\n      <td>3500</td>\n      <td>6.695900</td>\n      <td>6.490142</td>\n    </tr>\n    <tr>\n      <td>4000</td>\n      <td>6.661100</td>\n      <td>6.451512</td>\n    </tr>\n    <tr>\n      <td>4500</td>\n      <td>6.631600</td>\n      <td>6.419529</td>\n    </tr>\n    <tr>\n      <td>5000</td>\n      <td>6.605400</td>\n      <td>6.393302</td>\n    </tr>\n    <tr>\n      <td>5500</td>\n      <td>6.575500</td>\n      <td>6.372337</td>\n    </tr>\n    <tr>\n      <td>6000</td>\n      <td>6.566400</td>\n      <td>6.356316</td>\n    </tr>\n  </tbody>\n</table><p>"
     },
     "metadata": {},
     "output_type": "display_data"
    },
    {
     "data": {
      "text/plain": "<IPython.core.display.HTML object>",
      "text/html": "\n    <div>\n      \n      <progress value='6501' max='7572' style='width:300px; height:20px; vertical-align: middle;'></progress>\n      [6501/7572 1:40:49 < 16:36, 1.07 it/s, Epoch 2.57/3]\n    </div>\n    <table border=\"1\" class=\"dataframe\">\n  <thead>\n <tr style=\"text-align: left;\">\n      <th>Step</th>\n      <th>Training Loss</th>\n      <th>Validation Loss</th>\n    </tr>\n  </thead>\n  <tbody>\n    <tr>\n      <td>500</td>\n      <td>7.190800</td>\n      <td>6.932671</td>\n    </tr>\n    <tr>\n      <td>1000</td>\n      <td>7.056700</td>\n      <td>6.821011</td>\n    </tr>\n    <tr>\n      <td>1500</td>\n      <td>6.964300</td>\n      <td>6.730379</td>\n    </tr>\n    <tr>\n      <td>2000</td>\n      <td>6.886400</td>\n      <td>6.654659</td>\n    </tr>\n    <tr>\n      <td>2500</td>\n      <td>6.806800</td>\n      <td>6.590432</td>\n    </tr>\n    <tr>\n      <td>3000</td>\n      <td>6.755500</td>\n      <td>6.536036</td>\n    </tr>\n    <tr>\n      <td>3500</td>\n      <td>6.695900</td>\n      <td>6.490142</td>\n    </tr>\n    <tr>\n      <td>4000</td>\n      <td>6.661100</td>\n      <td>6.451512</td>\n    </tr>\n    <tr>\n      <td>4500</td>\n      <td>6.631600</td>\n      <td>6.419529</td>\n    </tr>\n    <tr>\n      <td>5000</td>\n      <td>6.605400</td>\n      <td>6.393302</td>\n    </tr>\n    <tr>\n      <td>5500</td>\n      <td>6.575500</td>\n      <td>6.372337</td>\n    </tr>\n    <tr>\n      <td>6000</td>\n      <td>6.566400</td>\n      <td>6.356316</td>\n    </tr>\n    <tr>\n      <td>6500</td>\n      <td>6.551300</td>\n      <td>6.344827</td>\n    </tr>\n  </tbody>\n</table><p>"
     },
     "metadata": {},
     "output_type": "display_data"
    },
    {
     "data": {
      "text/plain": "<IPython.core.display.HTML object>",
      "text/html": "\n    <div>\n      \n      <progress value='7001' max='7572' style='width:300px; height:20px; vertical-align: middle;'></progress>\n      [7001/7572 1:48:35 < 08:51, 1.07 it/s, Epoch 2.77/3]\n    </div>\n    <table border=\"1\" class=\"dataframe\">\n  <thead>\n <tr style=\"text-align: left;\">\n      <th>Step</th>\n      <th>Training Loss</th>\n      <th>Validation Loss</th>\n    </tr>\n  </thead>\n  <tbody>\n    <tr>\n      <td>500</td>\n      <td>7.190800</td>\n      <td>6.932671</td>\n    </tr>\n    <tr>\n      <td>1000</td>\n      <td>7.056700</td>\n      <td>6.821011</td>\n    </tr>\n    <tr>\n      <td>1500</td>\n      <td>6.964300</td>\n      <td>6.730379</td>\n    </tr>\n    <tr>\n      <td>2000</td>\n      <td>6.886400</td>\n      <td>6.654659</td>\n    </tr>\n    <tr>\n      <td>2500</td>\n      <td>6.806800</td>\n      <td>6.590432</td>\n    </tr>\n    <tr>\n      <td>3000</td>\n      <td>6.755500</td>\n      <td>6.536036</td>\n    </tr>\n    <tr>\n      <td>3500</td>\n      <td>6.695900</td>\n      <td>6.490142</td>\n    </tr>\n    <tr>\n      <td>4000</td>\n      <td>6.661100</td>\n      <td>6.451512</td>\n    </tr>\n    <tr>\n      <td>4500</td>\n      <td>6.631600</td>\n      <td>6.419529</td>\n    </tr>\n    <tr>\n      <td>5000</td>\n      <td>6.605400</td>\n      <td>6.393302</td>\n    </tr>\n    <tr>\n      <td>5500</td>\n      <td>6.575500</td>\n      <td>6.372337</td>\n    </tr>\n    <tr>\n      <td>6000</td>\n      <td>6.566400</td>\n      <td>6.356316</td>\n    </tr>\n    <tr>\n      <td>6500</td>\n      <td>6.551300</td>\n      <td>6.344827</td>\n    </tr>\n    <tr>\n      <td>7000</td>\n      <td>6.536300</td>\n      <td>6.337675</td>\n    </tr>\n  </tbody>\n</table><p>"
     },
     "metadata": {},
     "output_type": "display_data"
    },
    {
     "data": {
      "text/plain": "<IPython.core.display.HTML object>",
      "text/html": "\n    <div>\n      \n      <progress value='7501' max='7572' style='width:300px; height:20px; vertical-align: middle;'></progress>\n      [7501/7572 1:56:35 < 01:06, 1.07 it/s, Epoch 2.97/3]\n    </div>\n    <table border=\"1\" class=\"dataframe\">\n  <thead>\n <tr style=\"text-align: left;\">\n      <th>Step</th>\n      <th>Training Loss</th>\n      <th>Validation Loss</th>\n    </tr>\n  </thead>\n  <tbody>\n    <tr>\n      <td>500</td>\n      <td>7.190800</td>\n      <td>6.932671</td>\n    </tr>\n    <tr>\n      <td>1000</td>\n      <td>7.056700</td>\n      <td>6.821011</td>\n    </tr>\n    <tr>\n      <td>1500</td>\n      <td>6.964300</td>\n      <td>6.730379</td>\n    </tr>\n    <tr>\n      <td>2000</td>\n      <td>6.886400</td>\n      <td>6.654659</td>\n    </tr>\n    <tr>\n      <td>2500</td>\n      <td>6.806800</td>\n      <td>6.590432</td>\n    </tr>\n    <tr>\n      <td>3000</td>\n      <td>6.755500</td>\n      <td>6.536036</td>\n    </tr>\n    <tr>\n      <td>3500</td>\n      <td>6.695900</td>\n      <td>6.490142</td>\n    </tr>\n    <tr>\n      <td>4000</td>\n      <td>6.661100</td>\n      <td>6.451512</td>\n    </tr>\n    <tr>\n      <td>4500</td>\n      <td>6.631600</td>\n      <td>6.419529</td>\n    </tr>\n    <tr>\n      <td>5000</td>\n      <td>6.605400</td>\n      <td>6.393302</td>\n    </tr>\n    <tr>\n      <td>5500</td>\n      <td>6.575500</td>\n      <td>6.372337</td>\n    </tr>\n    <tr>\n      <td>6000</td>\n      <td>6.566400</td>\n      <td>6.356316</td>\n    </tr>\n    <tr>\n      <td>6500</td>\n      <td>6.551300</td>\n      <td>6.344827</td>\n    </tr>\n    <tr>\n      <td>7000</td>\n      <td>6.536300</td>\n      <td>6.337675</td>\n    </tr>\n    <tr>\n      <td>7500</td>\n      <td>6.531600</td>\n      <td>6.334874</td>\n    </tr>\n  </tbody>\n</table><p>"
     },
     "metadata": {},
     "output_type": "display_data"
    },
    {
     "data": {
      "text/plain": "<IPython.core.display.HTML object>",
      "text/html": "\n    <div>\n      \n      <progress value='7573' max='7572' style='width:300px; height:20px; vertical-align: middle;'></progress>\n      [7572/7572 2:00:35, Epoch 3.00/3]\n    </div>\n    <table border=\"1\" class=\"dataframe\">\n  <thead>\n <tr style=\"text-align: left;\">\n      <th>Step</th>\n      <th>Training Loss</th>\n      <th>Validation Loss</th>\n    </tr>\n  </thead>\n  <tbody>\n    <tr>\n      <td>500</td>\n      <td>7.190800</td>\n      <td>6.932671</td>\n    </tr>\n    <tr>\n      <td>1000</td>\n      <td>7.056700</td>\n      <td>6.821011</td>\n    </tr>\n    <tr>\n      <td>1500</td>\n      <td>6.964300</td>\n      <td>6.730379</td>\n    </tr>\n    <tr>\n      <td>2000</td>\n      <td>6.886400</td>\n      <td>6.654659</td>\n    </tr>\n    <tr>\n      <td>2500</td>\n      <td>6.806800</td>\n      <td>6.590432</td>\n    </tr>\n    <tr>\n      <td>3000</td>\n      <td>6.755500</td>\n      <td>6.536036</td>\n    </tr>\n    <tr>\n      <td>3500</td>\n      <td>6.695900</td>\n      <td>6.490142</td>\n    </tr>\n    <tr>\n      <td>4000</td>\n      <td>6.661100</td>\n      <td>6.451512</td>\n    </tr>\n    <tr>\n      <td>4500</td>\n      <td>6.631600</td>\n      <td>6.419529</td>\n    </tr>\n    <tr>\n      <td>5000</td>\n      <td>6.605400</td>\n      <td>6.393302</td>\n    </tr>\n    <tr>\n      <td>5500</td>\n      <td>6.575500</td>\n      <td>6.372337</td>\n    </tr>\n    <tr>\n      <td>6000</td>\n      <td>6.566400</td>\n      <td>6.356316</td>\n    </tr>\n    <tr>\n      <td>6500</td>\n      <td>6.551300</td>\n      <td>6.344827</td>\n    </tr>\n    <tr>\n      <td>7000</td>\n      <td>6.536300</td>\n      <td>6.337675</td>\n    </tr>\n    <tr>\n      <td>7500</td>\n      <td>6.531600</td>\n      <td>6.334874</td>\n    </tr>\n  </tbody>\n</table><p>"
     },
     "metadata": {},
     "output_type": "display_data"
    },
    {
     "data": {
      "text/plain": "<IPython.core.display.HTML object>",
      "text/html": "\n    <div>\n      \n      <progress value='7572' max='7572' style='width:300px; height:20px; vertical-align: middle;'></progress>\n      [7572/7572 2:00:50, Epoch 2/3]\n    </div>\n    <table border=\"1\" class=\"dataframe\">\n  <thead>\n <tr style=\"text-align: left;\">\n      <th>Step</th>\n      <th>Training Loss</th>\n      <th>Validation Loss</th>\n    </tr>\n  </thead>\n  <tbody>\n    <tr>\n      <td>500</td>\n      <td>7.190800</td>\n      <td>6.932671</td>\n    </tr>\n    <tr>\n      <td>1000</td>\n      <td>7.056700</td>\n      <td>6.821011</td>\n    </tr>\n    <tr>\n      <td>1500</td>\n      <td>6.964300</td>\n      <td>6.730379</td>\n    </tr>\n    <tr>\n      <td>2000</td>\n      <td>6.886400</td>\n      <td>6.654659</td>\n    </tr>\n    <tr>\n      <td>2500</td>\n      <td>6.806800</td>\n      <td>6.590432</td>\n    </tr>\n    <tr>\n      <td>3000</td>\n      <td>6.755500</td>\n      <td>6.536036</td>\n    </tr>\n    <tr>\n      <td>3500</td>\n      <td>6.695900</td>\n      <td>6.490142</td>\n    </tr>\n    <tr>\n      <td>4000</td>\n      <td>6.661100</td>\n      <td>6.451512</td>\n    </tr>\n    <tr>\n      <td>4500</td>\n      <td>6.631600</td>\n      <td>6.419529</td>\n    </tr>\n    <tr>\n      <td>5000</td>\n      <td>6.605400</td>\n      <td>6.393302</td>\n    </tr>\n    <tr>\n      <td>5500</td>\n      <td>6.575500</td>\n      <td>6.372337</td>\n    </tr>\n    <tr>\n      <td>6000</td>\n      <td>6.566400</td>\n      <td>6.356316</td>\n    </tr>\n    <tr>\n      <td>6500</td>\n      <td>6.551300</td>\n      <td>6.344827</td>\n    </tr>\n    <tr>\n      <td>7000</td>\n      <td>6.536300</td>\n      <td>6.337675</td>\n    </tr>\n    <tr>\n      <td>7500</td>\n      <td>6.531600</td>\n      <td>6.334874</td>\n    </tr>\n  </tbody>\n</table><p>"
     },
     "metadata": {},
     "output_type": "display_data"
    },
    {
     "data": {
      "text/plain": "VBox(children=(Label(value='22109.447 MB of 34486.872 MB uploaded (0.075 MB deduped)\\r'), FloatProgress(value=…",
      "application/vnd.jupyter.widget-view+json": {
       "version_major": 2,
       "version_minor": 0,
       "model_id": "49b83b28c1dc4308a1e2dbdf3efbe2f1"
      }
     },
     "metadata": {},
     "output_type": "display_data"
    }
   ],
   "source": [
    "import wandb\n",
    "\n",
    "st = time.time()\n",
    "trainer.train()\n",
    "et = time.time()\n",
    "\n",
    "wandb.finish()\n",
    "\n",
    "print(f\"total training time : {(et - st)} sec.\")"
   ],
   "metadata": {
    "collapsed": false,
    "is_executing": true,
    "ExecuteTime": {
     "start_time": "2024-03-17T09:51:56.672075Z"
    }
   },
   "id": "411fa20fb3ce6b6e",
   "execution_count": null
  },
  {
   "cell_type": "markdown",
   "source": [
    "Unfinished upload because it takes forever to upload :("
   ],
   "metadata": {
    "collapsed": false
   },
   "id": "cf9e7eec32c4c947"
  }
 ],
 "metadata": {
  "kernelspec": {
   "display_name": "Python 3",
   "language": "python",
   "name": "python3"
  },
  "language_info": {
   "codemirror_mode": {
    "name": "ipython",
    "version": 2
   },
   "file_extension": ".py",
   "mimetype": "text/x-python",
   "name": "python",
   "nbconvert_exporter": "python",
   "pygments_lexer": "ipython2",
   "version": "2.7.6"
  }
 },
 "nbformat": 4,
 "nbformat_minor": 5
}
