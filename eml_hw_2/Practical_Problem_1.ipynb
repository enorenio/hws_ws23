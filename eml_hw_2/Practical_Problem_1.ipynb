{
 "cells": [
  {
   "cell_type": "code",
   "execution_count": 1,
   "outputs": [
    {
     "name": "stdout",
     "output_type": "stream",
     "text": [
      "Collecting package metadata (current_repodata.json): done\r\n",
      "Solving environment: done\r\n",
      "\r\n",
      "\r\n",
      "==> WARNING: A newer version of conda exists. <==\r\n",
      "  current version: 23.7.4\r\n",
      "  latest version: 23.10.0\r\n",
      "\r\n",
      "Please update conda by running\r\n",
      "\r\n",
      "    $ conda update -n base -c defaults conda\r\n",
      "\r\n",
      "Or to minimize the number of packages updated during conda update use\r\n",
      "\r\n",
      "     conda install conda=23.10.0\r\n",
      "\r\n",
      "\r\n",
      "\r\n",
      "# All requested packages already installed.\r\n",
      "\r\n"
     ]
    }
   ],
   "source": [
    "!conda install numpy pandas matplotlib -y"
   ],
   "metadata": {
    "collapsed": false
   },
   "id": "5124abeea8caee3"
  },
  {
   "cell_type": "code",
   "execution_count": 19,
   "outputs": [
    {
     "name": "stdout",
     "output_type": "stream",
     "text": [
      "Collecting package metadata (current_repodata.json): done\r\n",
      "Solving environment: done\r\n",
      "\r\n",
      "\r\n",
      "==> WARNING: A newer version of conda exists. <==\r\n",
      "  current version: 23.7.4\r\n",
      "  latest version: 23.10.0\r\n",
      "\r\n",
      "Please update conda by running\r\n",
      "\r\n",
      "    $ conda update -n base -c defaults conda\r\n",
      "\r\n",
      "Or to minimize the number of packages updated during conda update use\r\n",
      "\r\n",
      "     conda install conda=23.10.0\r\n",
      "\r\n",
      "\r\n",
      "\r\n",
      "## Package Plan ##\r\n",
      "\r\n",
      "  environment location: /Users/aleksey/anaconda3/envs/hws_ws23\r\n",
      "\r\n",
      "  added / updated specs:\r\n",
      "    - seaborn\r\n",
      "\r\n",
      "\r\n",
      "The following NEW packages will be INSTALLED:\r\n",
      "\r\n",
      "  patsy              conda-forge/noarch::patsy-0.5.3-pyhd8ed1ab_0 \r\n",
      "  seaborn            conda-forge/noarch::seaborn-0.13.0-hd8ed1ab_0 \r\n",
      "  seaborn-base       conda-forge/noarch::seaborn-base-0.13.0-pyhd8ed1ab_0 \r\n",
      "  statsmodels        pkgs/main/osx-arm64::statsmodels-0.14.0-py310hbda83bc_0 \r\n",
      "\r\n",
      "The following packages will be UPDATED:\r\n",
      "\r\n",
      "  ca-certificates    pkgs/main::ca-certificates-2023.08.22~ --> conda-forge::ca-certificates-2023.11.17-hf0a4a13_0 \r\n",
      "  openssl              pkgs/main::openssl-3.0.12-h1a28f6b_0 --> conda-forge::openssl-3.2.0-h0d3ecfb_1 \r\n",
      "\r\n",
      "The following packages will be SUPERSEDED by a higher-priority channel:\r\n",
      "\r\n",
      "  certifi            pkgs/main/osx-arm64::certifi-2023.11.~ --> conda-forge/noarch::certifi-2023.11.17-pyhd8ed1ab_0 \r\n",
      "\r\n",
      "\r\n",
      "\r\n",
      "Downloading and Extracting Packages\r\n",
      "\r\n",
      "Preparing transaction: done\r\n",
      "Verifying transaction: done\r\n",
      "Executing transaction: done\r\n"
     ]
    }
   ],
   "source": [
    "!conda install seaborn -c conda-forge -y"
   ],
   "metadata": {
    "collapsed": false,
    "ExecuteTime": {
     "end_time": "2023-11-30T13:08:58.589671Z",
     "start_time": "2023-11-30T13:08:34.529445Z"
    }
   },
   "id": "7b84387dfc4fdd1b"
  },
  {
   "cell_type": "code",
   "execution_count": 59,
   "id": "a9ed6b54-f74e-4341-bf36-10d5cc01a09e",
   "metadata": {
    "ExecuteTime": {
     "end_time": "2023-11-30T13:49:25.404717Z",
     "start_time": "2023-11-30T13:49:25.396810Z"
    }
   },
   "outputs": [],
   "source": [
    "import numpy as np\n",
    "import pandas as pd\n",
    "import matplotlib.pyplot as plt\n",
    "from sklearn.model_selection import train_test_split\n",
    "import seaborn as sns\n",
    "from sklearn.metrics import confusion_matrix"
   ]
  },
  {
   "cell_type": "markdown",
   "id": "20b95bf1",
   "metadata": {},
   "source": [
    "### 1. Phoneme Dataset\n",
    "Load the phoneme dataset using Pandas"
   ]
  },
  {
   "cell_type": "code",
   "execution_count": 60,
   "id": "21c9a895-9863-4a10-9c4b-fcc5dcb21283",
   "metadata": {
    "ExecuteTime": {
     "end_time": "2023-11-30T13:49:26.413634Z",
     "start_time": "2023-11-30T13:49:26.296298Z"
    }
   },
   "outputs": [],
   "source": [
    "data = pd.read_csv('data/phoneme.csv')\n",
    "\n",
    "# Split the dataset into a train and test dataset according to column \"speaker\".\n",
    "trainDataFrame, testDataFrame = train_test_split(data, test_size=0.2, stratify=data['speaker'], random_state=42)\n",
    "\n",
    "# Be sure to exclude row number, \"speaker\" and response columns from your features.\n",
    "excludedColumns = ['row.names', 'speaker']\n",
    "trainDataFrame = trainDataFrame.drop(columns=excludedColumns)\n",
    "testDataFrame = testDataFrame.drop(columns=excludedColumns)"
   ]
  },
  {
   "cell_type": "markdown",
   "id": "e1545466-f4b8-4dac-aedc-23a28aaa34ba",
   "metadata": {},
   "source": [
    "### 2. LDA modelling\n",
    "Fit an LDA model. Compute and report the train and test error."
   ]
  },
  {
   "cell_type": "code",
   "execution_count": 61,
   "outputs": [],
   "source": [
    "from sklearn.discriminant_analysis import LinearDiscriminantAnalysis\n",
    "from sklearn.metrics import accuracy_score"
   ],
   "metadata": {
    "collapsed": false,
    "ExecuteTime": {
     "end_time": "2023-11-30T13:49:26.717692Z",
     "start_time": "2023-11-30T13:49:26.711090Z"
    }
   },
   "id": "a9b603d39167b76c"
  },
  {
   "cell_type": "code",
   "execution_count": 62,
   "id": "c07740f4-6f7c-4f7f-9186-e808c6a1234a",
   "metadata": {
    "ExecuteTime": {
     "end_time": "2023-11-30T13:49:27.161437Z",
     "start_time": "2023-11-30T13:49:27.037996Z"
    }
   },
   "outputs": [
    {
     "name": "stdout",
     "output_type": "stream",
     "text": [
      "Training error: 0.06\n",
      "Test error: 0.08\n"
     ]
    }
   ],
   "source": [
    "predColumn = 'g'\n",
    "xTrain, xTest, yTrain, yTest = trainDataFrame.drop(predColumn, axis=1), testDataFrame.drop(predColumn, axis=1), trainDataFrame[predColumn], testDataFrame[predColumn]\n",
    "\n",
    "lda = LinearDiscriminantAnalysis()\n",
    "\n",
    "lda.fit(xTrain, yTrain)\n",
    "\n",
    "yTrainPred = lda.predict(xTrain)\n",
    "yTestPred = lda.predict(xTest)\n",
    "\n",
    "trainAccuracy = accuracy_score(yTrain, yTrainPred)\n",
    "testAccuracy = accuracy_score(yTest, yTestPred)\n",
    "\n",
    "print(f\"Training error: {1 - trainAccuracy:.2f}\")\n",
    "print(f\"Test error: {1 - testAccuracy:.2f}\")"
   ]
  },
  {
   "cell_type": "markdown",
   "id": "d2205c6e-02cf-4228-8f81-9396308ba0f7",
   "metadata": {},
   "source": [
    "### 3. LDA on different phonemes\n",
    "For every pair of phenomes select the corresponding data points. Fit an LDA model on all data sets and repeat the steps done in (2). Explain your findings."
   ]
  },
  {
   "cell_type": "markdown",
   "source": [
    "Error (Train / Test) became small after applying LDA on different phonemes. Finding dimension boundary in smaller dimensions helps decrease error. Error higher between phonemes \"ao\" and \"aa\""
   ],
   "metadata": {
    "collapsed": false
   },
   "id": "9ff41a0511f579e0"
  },
  {
   "cell_type": "code",
   "execution_count": 76,
   "outputs": [
    {
     "name": "stdout",
     "output_type": "stream",
     "text": [
      "['dcl', 'ao', 'aa', 'sh', 'iy']\n"
     ]
    }
   ],
   "source": [
    "#distinguish unique phonemes\n",
    "uniquePhonemes = list(set(list(data[predColumn].unique())))\n",
    "n = len(uniquePhonemes)\n",
    "\n",
    "print(uniquePhonemes)"
   ],
   "metadata": {
    "collapsed": false,
    "ExecuteTime": {
     "end_time": "2023-11-30T14:04:25.449918Z",
     "start_time": "2023-11-30T14:04:25.435552Z"
    }
   },
   "id": "3b176c452763a399"
  },
  {
   "cell_type": "code",
   "execution_count": 77,
   "outputs": [
    {
     "name": "stdout",
     "output_type": "stream",
     "text": [
      "Results for dcl and ao\n",
      "Train error of dcl, ao: 0.00000\n",
      "Test error of dcl, ao: 0.00282\n",
      "Results for dcl and aa\n",
      "Train error of dcl, aa: 0.00000\n",
      "Test error of dcl, aa: 0.00326\n",
      "Results for dcl and sh\n",
      "Train error of dcl, sh: 0.00077\n",
      "Test error of dcl, sh: 0.00617\n",
      "Results for dcl and iy\n",
      "Train error of dcl, iy: 0.00328\n",
      "Test error of dcl, iy: 0.00000\n",
      "Results for ao and aa\n",
      "Train error of ao, aa: 0.10545\n",
      "Test error of ao, aa: 0.20175\n",
      "Results for ao and sh\n",
      "Train error of ao, sh: 0.00000\n",
      "Test error of ao, sh: 0.00000\n",
      "Results for ao and iy\n",
      "Train error of ao, iy: 0.00000\n",
      "Test error of ao, iy: 0.00000\n",
      "Results for aa and sh\n",
      "Train error of aa, sh: 0.00000\n",
      "Test error of aa, sh: 0.00000\n",
      "Results for aa and iy\n",
      "Train error of aa, iy: 0.00000\n",
      "Test error of aa, iy: 0.00000\n",
      "Results for sh and iy\n",
      "Train error of sh, iy: 0.00000\n",
      "Test error of sh, iy: 0.00000\n"
     ]
    }
   ],
   "source": [
    "def createDataSubSet(p_1, p_2):\n",
    "    temp_train = trainDataFrame[trainDataFrame[predColumn].isin([p_1, p_2])]\n",
    "    temp_test = testDataFrame[testDataFrame[predColumn].isin([p_1, p_2])]\n",
    "    xTrain, xTest, yTrain, yTest = temp_train.drop(predColumn, axis=1), temp_test.drop(predColumn, axis=1), temp_train[predColumn], temp_test[predColumn]\n",
    "    \n",
    "    return xTrain, xTest, yTrain, yTest\n",
    "\n",
    "# da is lda / qda\n",
    "def getPredictions(da, xTrain, yTrain, xTest):\n",
    "    da.fit(xTrain, yTrain)\n",
    "    y_train_pred = da.predict(xTrain)\n",
    "    y_test_pred = da.predict(xTest)\n",
    "    return y_train_pred, y_test_pred\n",
    "\n",
    "def getLDAerror(p_1, p_2, returnPred=False):\n",
    "    xTrain, xTest, yTrain, yTest = createDataSubSet(p_1, p_2)\n",
    "\n",
    "    lda = LinearDiscriminantAnalysis()\n",
    "    yTrainPred, yTestPred = getPredictions(lda, xTrain, yTrain, xTest)\n",
    "\n",
    "    trainAccuracy = accuracy_score(yTrain, yTrainPred)\n",
    "    testAccuracy = accuracy_score(yTest, yTestPred)\n",
    "\n",
    "    trainError = 1 - trainAccuracy\n",
    "    testError = 1 - testAccuracy\n",
    "\n",
    "    print(f\"Train error of {p_1}, {p_2}: {trainError:.5f}\")\n",
    "    print(f\"Test error of {p_1}, {p_2}: {testError:.5f}\")\n",
    "\n",
    "    if returnPred == True:\n",
    "        results = {'train_error': trainError, 'test_error': testError, 'X_train': xTrain, 'X_test': xTest,\n",
    "                   'y_train': yTrain, 'y_test': yTest, 'y_train_pred': yTrainPred, 'y_test_pred': yTestPred}\n",
    "        return results\n",
    "    else:\n",
    "        return trainError, testError\n",
    "\n",
    "trainErrors = []\n",
    "testErrors = []\n",
    "for i in range(n):\n",
    "    for j in range(i+1, n):\n",
    "        p_1, p_2 = uniquePhonemes[i], uniquePhonemes[j]\n",
    "        print(f\"Results for {p_1} and {p_2}\")\n",
    "        trainError, testError = getLDAerror(p_1, p_2)\n",
    "        trainErrors.append(trainError)\n",
    "        testErrors.append(testError)"
   ],
   "metadata": {
    "collapsed": false,
    "ExecuteTime": {
     "end_time": "2023-11-30T14:04:27.794061Z",
     "start_time": "2023-11-30T14:04:25.567930Z"
    }
   },
   "id": "a2fdb4d7b541181e"
  },
  {
   "cell_type": "markdown",
   "id": "2b231d3e",
   "metadata": {},
   "source": [
    "### 4. QDA\n",
    "Repeat steps (2) and (4) using QDA and report your findings. What model do you prefer and why?"
   ]
  },
  {
   "cell_type": "markdown",
   "source": [
    "LDA is better, because QDA overfits (train error is 0) \n",
    "QDA generalizes more poorly.\n",
    "Also QDA worked better when distinguished between 2 classes."
   ],
   "metadata": {
    "collapsed": false
   },
   "id": "c45c09e082c859d"
  },
  {
   "cell_type": "code",
   "execution_count": 78,
   "id": "52089486",
   "metadata": {
    "ExecuteTime": {
     "end_time": "2023-11-30T14:04:28.648682Z",
     "start_time": "2023-11-30T14:04:27.793890Z"
    }
   },
   "outputs": [
    {
     "name": "stdout",
     "output_type": "stream",
     "text": [
      "QDA Train error: 0.00\n",
      "QDA Test error: 0.16\n"
     ]
    }
   ],
   "source": [
    "from sklearn.discriminant_analysis import QuadraticDiscriminantAnalysis\n",
    "\n",
    "xTrain, xTest, yTrain, yTest = trainDataFrame.drop(predColumn, axis=1), testDataFrame.drop(predColumn, axis=1), trainDataFrame[predColumn], testDataFrame[predColumn]\n",
    "\n",
    "qda = QuadraticDiscriminantAnalysis()\n",
    "\n",
    "qda.fit(xTrain, yTrain)\n",
    "\n",
    "yTrainPred = qda.predict(xTrain)\n",
    "yTestPred = qda.predict(xTest)\n",
    "\n",
    "train_acc = accuracy_score(yTrain, yTrainPred)\n",
    "test_acc = accuracy_score(yTest, yTestPred)\n",
    "\n",
    "print(f\"QDA Train error: {1-train_acc:.2f}\")\n",
    "print(f\"QDA Test error: {1-test_acc:.2f}\")"
   ]
  },
  {
   "cell_type": "code",
   "execution_count": 79,
   "outputs": [
    {
     "name": "stdout",
     "output_type": "stream",
     "text": [
      "Results for dcl and ao\n",
      "QDA training error for dcl, ao: 0.00000\n",
      "QDA test set error for dcl, ao: 0.00282\n",
      "Results for dcl and aa\n",
      "QDA training error for dcl, aa: 0.00000\n",
      "QDA test set error for dcl, aa: 0.00326\n",
      "Results for dcl and sh\n",
      "QDA training error for dcl, sh: 0.00077\n",
      "QDA test set error for dcl, sh: 0.00617\n",
      "Results for dcl and iy\n",
      "QDA training error for dcl, iy: 0.00328\n",
      "QDA test set error for dcl, iy: 0.00000\n",
      "Results for ao and aa\n",
      "QDA training error for ao, aa: 0.10545\n",
      "QDA test set error for ao, aa: 0.20175\n",
      "Results for ao and sh\n",
      "QDA training error for ao, sh: 0.00000\n",
      "QDA test set error for ao, sh: 0.00000\n",
      "Results for ao and iy\n",
      "QDA training error for ao, iy: 0.00000\n",
      "QDA test set error for ao, iy: 0.00000\n",
      "Results for aa and sh\n",
      "QDA training error for aa, sh: 0.00000\n",
      "QDA test set error for aa, sh: 0.00000\n",
      "Results for aa and iy\n",
      "QDA training error for aa, iy: 0.00000\n",
      "QDA test set error for aa, iy: 0.00000\n",
      "Results for sh and iy\n",
      "QDA training error for sh, iy: 0.00000\n",
      "QDA test set error for sh, iy: 0.00000\n"
     ]
    }
   ],
   "source": [
    "def getQDAError(p_1, p_2, returnPred=False):\n",
    "    xTrain, xTest, yTrain, yTest = createDataSubSet(p_1, p_2)\n",
    "\n",
    "    qda = LinearDiscriminantAnalysis()\n",
    "    yTrainPred, yTestPred = getPredictions(qda, xTrain, yTrain, xTest)\n",
    "\n",
    "    trainAccuracy = accuracy_score(yTrain, yTrainPred)\n",
    "    testAccuracy = accuracy_score(yTest, yTestPred)\n",
    "\n",
    "    train_error = 1 - trainAccuracy\n",
    "    test_error = 1 - testAccuracy\n",
    "\n",
    "    print(f\"QDA training error for {p_1}, {p_2}: {train_error:.5f}\")\n",
    "    print(f\"QDA test set error for {p_1}, {p_2}: {test_error:.5f}\")\n",
    "\n",
    "    if returnPred == True:\n",
    "        results = {'train_error': train_error, 'test_error': test_error, 'X_train': xTrain, 'X_test': xTest,\n",
    "                   'y_train': yTrain, 'y_test': yTest, 'y_train_pred': yTrainPred, 'y_test_pred': yTestPred}\n",
    "        return results\n",
    "    else:\n",
    "        return train_error, test_error\n",
    "\n",
    "trainErrorsQda = []\n",
    "testErrorsQda = []\n",
    "for i in range(n):\n",
    "    for j in range(i+1, n):\n",
    "        print(f\"Results for {uniquePhonemes[i]} and {uniquePhonemes[j]}\")\n",
    "        trainError, testError = getQDAError(uniquePhonemes[i], uniquePhonemes[j])\n",
    "        trainErrorsQda.append(trainError)\n",
    "        testErrorsQda.append(testError)"
   ],
   "metadata": {
    "collapsed": false,
    "ExecuteTime": {
     "end_time": "2023-11-30T14:04:30.020060Z",
     "start_time": "2023-11-30T14:04:28.653097Z"
    }
   },
   "id": "a24e4bcfb650c585"
  },
  {
   "cell_type": "markdown",
   "id": "019d08a3",
   "metadata": {},
   "source": [
    "### 5. Confusion Matrices\n",
    "Generate confusion matrices for the LDA and QDA model for the combination of phenomes, which proved to be the hardest to classify. Which differences can you observe between the models?"
   ]
  },
  {
   "cell_type": "markdown",
   "source": [
    "\"aa\" and \"ao\" are most confusing.\n",
    "QDA performs very well on a train set. But fails to generalize.\n",
    "In data there's class imbalance (\"ao\" is more than \"aa\")\n",
    "LDA performs not so good on train set but generalizes well."
   ],
   "metadata": {
    "collapsed": false
   },
   "id": "7fd6f7ba7f28fd19"
  },
  {
   "cell_type": "code",
   "execution_count": 84,
   "id": "468e438b",
   "metadata": {
    "ExecuteTime": {
     "end_time": "2023-11-30T14:05:01.314763Z",
     "start_time": "2023-11-30T14:05:01.139890Z"
    }
   },
   "outputs": [
    {
     "name": "stdout",
     "output_type": "stream",
     "text": [
      "Train error of aa, ao: 0.10545\n",
      "Test error of aa, ao: 0.20175\n"
     ]
    },
    {
     "data": {
      "text/plain": "<Figure size 800x600 with 1 Axes>",
      "image/png": "[encoded data removed]"
     },
     "metadata": {},
     "output_type": "display_data"
    }
   ],
   "source": [
    "res_lda = getLDAerror('aa', 'ao', returnPred=True)\n",
    "y_true, y_pred = np.array(res_lda['y_train']), np.array(res_lda['y_train_pred'])\n",
    "\n",
    "cm_lda = confusion_matrix(y_true, y_pred)\n",
    "\n",
    "plt.figure(figsize=(8, 6))\n",
    "sns.heatmap(cm_lda, annot=True, fmt=\"d\", cmap=\"Blues\", cbar=False,\n",
    "            xticklabels=np.unique(y_true), yticklabels=np.unique(y_true))\n",
    "plt.xlabel('Predicted')\n",
    "plt.ylabel('Actual')\n",
    "plt.title('Confusion Matrix for LDA, train set')\n",
    "plt.show()"
   ]
  },
  {
   "cell_type": "code",
   "execution_count": 85,
   "outputs": [
    {
     "data": {
      "text/plain": "<Figure size 800x600 with 1 Axes>",
      "image/png": "[encoded data removed]"
     },
     "metadata": {},
     "output_type": "display_data"
    }
   ],
   "source": [
    "y_true, y_pred = np.array(res_lda['y_test']), np.array(res_lda['y_test_pred'])\n",
    "\n",
    "cm_lda = confusion_matrix(y_true, y_pred)\n",
    "\n",
    "plt.figure(figsize=(8, 6))\n",
    "sns.heatmap(cm_lda, annot=True, fmt=\"d\", cmap=\"Blues\", cbar=False,\n",
    "            xticklabels=np.unique(y_true), yticklabels=np.unique(y_true))\n",
    "plt.xlabel('Predicted')\n",
    "plt.ylabel('Actual')\n",
    "plt.title('Confusion Matrix for LDA, test set')\n",
    "plt.show()"
   ],
   "metadata": {
    "collapsed": false,
    "ExecuteTime": {
     "end_time": "2023-11-30T14:05:01.697030Z",
     "start_time": "2023-11-30T14:05:01.611544Z"
    }
   },
   "id": "a9e77d27b27c8d79"
  },
  {
   "cell_type": "code",
   "execution_count": 86,
   "outputs": [
    {
     "name": "stdout",
     "output_type": "stream",
     "text": [
      "QDA training error for aa, ao: 0.10545\n",
      "QDA test set error for aa, ao: 0.20175\n"
     ]
    },
    {
     "data": {
      "text/plain": "<Figure size 800x600 with 1 Axes>",
      "image/png": "[encoded data removed]"
     },
     "metadata": {},
     "output_type": "display_data"
    }
   ],
   "source": [
    "res_qda = getQDAError('aa', 'ao', returnPred=True)\n",
    "y_true_qda, y_pred_qda = np.array(res_qda['y_train']), np.array(res_qda['y_train_pred'])\n",
    "\n",
    "cm_qda = confusion_matrix(y_true_qda, y_pred_qda)\n",
    "\n",
    "plt.figure(figsize=(8, 6))\n",
    "sns.heatmap(cm_qda, annot=True, fmt=\"d\", cmap=\"Blues\", cbar=False,\n",
    "            xticklabels=np.unique(y_true_qda), yticklabels=np.unique(y_true_qda))\n",
    "plt.xlabel('Predicted')\n",
    "plt.ylabel('True')\n",
    "plt.title('QDA confusion matrix with train set')\n",
    "plt.show()"
   ],
   "metadata": {
    "collapsed": false,
    "ExecuteTime": {
     "end_time": "2023-11-30T14:05:03.282057Z",
     "start_time": "2023-11-30T14:05:03.123834Z"
    }
   },
   "id": "5ad9edaa38b8391d"
  },
  {
   "cell_type": "code",
   "execution_count": 87,
   "outputs": [
    {
     "data": {
      "text/plain": "<Figure size 800x600 with 1 Axes>",
      "image/png": "[encoded data removed]"
     },
     "metadata": {},
     "output_type": "display_data"
    }
   ],
   "source": [
    "y_true_qda, y_pred_qda = np.array(res_qda['y_test']), np.array(res_qda['y_test_pred'])\n",
    "\n",
    "cm_qda = confusion_matrix(y_true_qda, y_pred_qda)\n",
    "\n",
    "plt.figure(figsize=(8, 6))\n",
    "sns.heatmap(cm_qda, annot=True, fmt=\"d\", cmap=\"Blues\", cbar=False,\n",
    "            xticklabels=np.unique(y_true_qda), yticklabels=np.unique(y_true_qda))\n",
    "plt.xlabel('Predicted')\n",
    "plt.ylabel('True')\n",
    "plt.title('QDA confusion matrix with test set')\n",
    "plt.show()"
   ],
   "metadata": {
    "collapsed": false,
    "ExecuteTime": {
     "end_time": "2023-11-30T14:05:03.573270Z",
     "start_time": "2023-11-30T14:05:03.494387Z"
    }
   },
   "id": "6bf50628ad92e186"
  },
  {
   "cell_type": "code",
   "execution_count": null,
   "outputs": [],
   "source": [],
   "metadata": {
    "collapsed": false
   },
   "id": "7294cbcde1b86449"
  }
 ],
 "metadata": {
  "kernelspec": {
   "display_name": "Python 3 (ipykernel)",
   "language": "python",
   "name": "python3"
  },
  "language_info": {
   "codemirror_mode": {
    "name": "ipython",
    "version": 3
   },
   "file_extension": ".py",
   "mimetype": "text/x-python",
   "name": "python",
   "nbconvert_exporter": "python",
   "pygments_lexer": "ipython3",
   "version": "3.10.6"
  }
 },
 "nbformat": 4,
 "nbformat_minor": 5
}
