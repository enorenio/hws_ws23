{
 "cells": [
  {
   "cell_type": "code",
   "execution_count": null,
   "metadata": {},
   "outputs": [],
   "source": [
    "import numpy as np\n",
    "import sklearn\n",
    "from sklearn.model_selection import train_test_split\n",
    "from sklearn.metrics import accuracy_score\n",
    "from sklearn.preprocessing import StandardScaler\n",
    "import pandas as pd"
   ]
  },
  {
   "cell_type": "code",
   "execution_count": null,
   "metadata": {},
   "outputs": [],
   "source": [
    "\n",
    "\n",
    "class SGDLogisticRegression():\n",
    "    def __init__(self,input_dim, output_dim, alpha=0.01,iter=1000):\n",
    "        self.weight = #TODO\n",
    "        self.bias = #TODO\n",
    "        self.alpha = alpha\n",
    "        self.iter = iter\n",
    "    \n",
    "    def predict_prob(self,X):\n",
    "        return #TODO\n",
    "    \n",
    "    def classify(self,X):\n",
    "        return #TODO\n",
    "    \n",
    "    def train(self,X,Y):\n",
    "        one_hot = #TODO onehot encode Y\n",
    "\n",
    "        for i in range(self.iter):\n",
    "        #TODO Implement gradient update\n",
    "            pass\n",
    "        return self"
   ]
  },
  {
   "cell_type": "code",
   "execution_count": null,
   "metadata": {},
   "outputs": [],
   "source": [
    "dataset = sklearn.datasets.load_digits()\n",
    "X_data,y_data = dataset.data, dataset.target\n",
    "X = StandardScaler().fit(X_data).transform(X_data) \n",
    "for i in range(10):\n",
    "    X_train, X_test, y_train, y_test = train_test_split(X_data,y_data, test_size=0.2,random_state=i)\n",
    "\n",
    "    sgdlog = SGDLogisticRegression(X_train.shape[1],10,iter=...,alpha=...) #TODO Choose appropriate iter and alpha\n",
    "    sgdlog = sgdlog.train(X_train,y_train)\n",
    "    print(accuracy_score(sgdlog.classify(X_train),y_train ))\n",
    "    print(accuracy_score(sgdlog.classify(X_test),y_test))\n",
    "    print()"
   ]
  },
  {
   "cell_type": "code",
   "execution_count": null,
   "metadata": {},
   "outputs": [],
   "source": []
  },
  {
   "cell_type": "code",
   "execution_count": null,
   "metadata": {},
   "outputs": [],
   "source": []
  }
 ],
 "metadata": {
  "kernelspec": {
   "display_name": "Python 3 (ipykernel)",
   "language": "python",
   "name": "python3"
  },
  "orig_nbformat": 4
 },
 "nbformat": 4,
 "nbformat_minor": 2
}
