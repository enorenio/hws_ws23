{
 "cells": [
  {
   "cell_type": "markdown",
   "metadata": {},
   "source": [
    "# Exercise C4"
   ]
  },
  {
   "cell_type": "markdown",
   "metadata": {},
   "source": [
    "In this notebook excersice, you should implement two variations of the Monte Carlo learning algorithm that was presented in the lecture. "
   ]
  },
  {
   "cell_type": "markdown",
   "metadata": {},
   "source": [
    "### README\n",
    "We recommend you install `gymnasium>=0.28.1` and `python>=3.10.*`. You can set up a python environment using e.g. [conda](https://docs.conda.io/projects/miniconda/en/latest/) in the terminal\n",
    "```\n",
    "conda create -n rl23 python=3.10 gymnasium=0.28.1 notebook -c conda-forge\n",
    "conda activate rl23\n",
    "```\n",
    "The `notebook` package is required for opening and working with this jupyter notebook.\n",
    "In a terminal with the Python environment active, run\n",
    "```\n",
    "jupyter notebook sysadmin.ipynb\n",
    "```\n",
    "\n",
    "If you need help setting up a development environment, please visit the office hour or ask for help in the forum."
   ]
  },
  {
   "cell_type": "code",
   "execution_count": 41,
   "outputs": [],
   "source": [
    "packages_to_install = {\n",
    "    \"gymnasium\": \"-c conda-forge gymnasium=0.28.1\",\n",
    "    \"numpy\": \"numpy=1.24.0\",\n",
    "    \"matplotlib\": \"matplotlib\",\n",
    "    \"scikit-learn\": \"-c conda-forge scikit-learn\",\n",
    "    \"scipy\": \"-c conda-forge scipy\"\n",
    "}"
   ],
   "metadata": {
    "collapsed": false,
    "ExecuteTime": {
     "end_time": "2023-12-11T23:31:18.331113Z",
     "start_time": "2023-12-11T23:31:18.223163Z"
    }
   }
  },
  {
   "cell_type": "code",
   "execution_count": 42,
   "outputs": [
    {
     "name": "stdout",
     "output_type": "stream",
     "text": [
      "gymnasium is already installed.\n",
      "numpy is already installed.\n",
      "matplotlib is already installed.\n",
      "scikit-learn is not installed. Installing it now...\n",
      "Collecting package metadata (current_repodata.json): done\r\n",
      "Solving environment: done\r\n",
      "\r\n",
      "\r\n",
      "==> WARNING: A newer version of conda exists. <==\r\n",
      "  current version: 23.7.4\r\n",
      "  latest version: 23.11.0\r\n",
      "\r\n",
      "Please update conda by running\r\n",
      "\r\n",
      "    $ conda update -n base -c defaults conda\r\n",
      "\r\n",
      "Or to minimize the number of packages updated during conda update use\r\n",
      "\r\n",
      "     conda install conda=23.11.0\r\n",
      "\r\n",
      "\r\n",
      "\r\n",
      "# All requested packages already installed.\r\n",
      "\r\n",
      "scipy is already installed.\n",
      "CPU times: user 175 ms, sys: 60.9 ms, total: 236 ms\n",
      "Wall time: 16.7 s\n"
     ]
    }
   ],
   "source": [
    "%%time\n",
    "import importlib\n",
    "\n",
    "for package_name, install_command in packages_to_install.items():\n",
    "    try:\n",
    "        importlib.import_module(package_name)\n",
    "        print(f\"{package_name} is already installed.\")\n",
    "    except ImportError:\n",
    "        print(f\"{package_name} is not installed. Installing it now...\")\n",
    "        !conda install -y {install_command}"
   ],
   "metadata": {
    "collapsed": false,
    "ExecuteTime": {
     "end_time": "2023-12-11T23:31:34.944217Z",
     "start_time": "2023-12-11T23:31:18.229649Z"
    }
   }
  },
  {
   "cell_type": "markdown",
   "metadata": {},
   "source": [
    "### Setup\n",
    "\n",
    "We consider the same learning problem, i.e. the Frozen Lake example. Hence, we create the environment and add the same helpful visualization methods as used in the lecture. "
   ]
  },
  {
   "cell_type": "code",
   "execution_count": 43,
   "metadata": {
    "ExecuteTime": {
     "end_time": "2023-12-11T23:31:34.950708Z",
     "start_time": "2023-12-11T23:31:34.946346Z"
    }
   },
   "outputs": [],
   "source": [
    "import numpy as np\n",
    "import gymnasium as gym\n",
    "import matplotlib.pyplot as plt\n",
    "from scipy.ndimage import zoom\n",
    "\n",
    " \n",
    "# Create the env which represents an MDP\n",
    "env = gym.make(\"FrozenLake-v1\",is_slippery=False)"
   ]
  },
  {
   "cell_type": "code",
   "execution_count": 44,
   "metadata": {
    "ExecuteTime": {
     "end_time": "2023-12-11T23:31:34.959266Z",
     "start_time": "2023-12-11T23:31:34.957423Z"
    }
   },
   "outputs": [],
   "source": [
    "# some useful stuff\n",
    "def plot_policy(policy):\n",
    "    \"\"\"Plot the policy in a grid with arrows.\"\"\"\n",
    "    policy_square = np.array(policy).reshape(env.unwrapped.desc.shape)\n",
    "    fig, ax = plt.subplots(figsize=(4, 4))\n",
    "    ax.imshow(np.ones_like(policy_square)*255, cmap='Greys', interpolation='none')\n",
    "    \n",
    "    for (i, j), action in np.ndenumerate(policy_square):\n",
    "        if env.unwrapped.desc[i, j] == b'H':\n",
    "            ax.text(j, i, 'H', ha='center', va='center', fontsize=12, color='black')\n",
    "        elif env.unwrapped.desc[i, j] == b'G':\n",
    "            ax.text(j, i, 'G', ha='center', va='center', fontsize=12, color='green')\n",
    "        else:  # This will include both 'S' and 'F' tiles.\n",
    "            if action == 0:  # left\n",
    "                ax.arrow(j, i, -0.3, 0, head_width=0.2, head_length=0.2, fc='r', ec='r')\n",
    "            elif action == 1:  # down\n",
    "                ax.arrow(j, i, 0, 0.3, head_width=0.2, head_length=0.2, fc='r', ec='r')\n",
    "            elif action == 2:  # right\n",
    "                ax.arrow(j, i, 0.3, 0, head_width=0.2, head_length=0.2, fc='r', ec='r')\n",
    "            elif action == 3:  # up\n",
    "                ax.arrow(j, i, 0, -0.3, head_width=0.2, head_length=0.2, fc='r', ec='r')\n",
    "\n",
    "    plt.xticks([]), plt.yticks([])\n",
    "    plt.title('Policy')\n",
    "    plt.show()\n",
    "    \n",
    "    \n",
    "def ActionToDirection(action):\n",
    "    if action == 0:\n",
    "        return \"left\"\n",
    "    if action == 1:\n",
    "        return \"down\"\n",
    "    if action == 2:\n",
    "        return \"right\"\n",
    "    if action == 3:\n",
    "        return \"up\"\n",
    "    return \"unknown\""
   ]
  },
  {
   "cell_type": "markdown",
   "metadata": {},
   "source": [
    "## Monte Carlo Control Algorithm from the Lecture\n",
    "\n",
    "In the following, there for recap again the commented code of the final Monte Carlo Control algorithm from lecture."
   ]
  },
  {
   "cell_type": "code",
   "execution_count": 45,
   "metadata": {
    "ExecuteTime": {
     "end_time": "2023-12-11T23:31:36.800386Z",
     "start_time": "2023-12-11T23:31:34.960310Z"
    }
   },
   "outputs": [
    {
     "name": "stdout",
     "output_type": "stream",
     "text": [
      "Policy after iteration: 0\n",
      "Got reward 1 times.\n"
     ]
    },
    {
     "data": {
      "text/plain": "<Figure size 400x400 with 1 Axes>",
      "image/png": "[encoded data removed]"
     },
     "metadata": {},
     "output_type": "display_data"
    },
    {
     "name": "stdout",
     "output_type": "stream",
     "text": [
      "Policy after iteration: 5\n",
      "Got reward 78 times.\n"
     ]
    },
    {
     "data": {
      "text/plain": "<Figure size 400x400 with 1 Axes>",
      "image/png": "[encoded data removed]"
     },
     "metadata": {},
     "output_type": "display_data"
    },
    {
     "name": "stdout",
     "output_type": "stream",
     "text": [
      "Policy after iteration: 10\n",
      "Got reward 80 times.\n"
     ]
    },
    {
     "data": {
      "text/plain": "<Figure size 400x400 with 1 Axes>",
      "image/png": "[encoded data removed]"
     },
     "metadata": {},
     "output_type": "display_data"
    },
    {
     "name": "stdout",
     "output_type": "stream",
     "text": [
      "Policy after iteration: 15\n",
      "Got reward 80 times.\n"
     ]
    },
    {
     "data": {
      "text/plain": "<Figure size 400x400 with 1 Axes>",
      "image/png": "[encoded data removed]"
     },
     "metadata": {},
     "output_type": "display_data"
    },
    {
     "name": "stdout",
     "output_type": "stream",
     "text": [
      "Policy after iteration: 20\n",
      "Got reward 80 times.\n"
     ]
    },
    {
     "data": {
      "text/plain": "<Figure size 400x400 with 1 Axes>",
      "image/png": "[encoded data removed]"
     },
     "metadata": {},
     "output_type": "display_data"
    },
    {
     "name": "stdout",
     "output_type": "stream",
     "text": [
      "Policy after iteration: 25\n",
      "Got reward 79 times.\n"
     ]
    },
    {
     "data": {
      "text/plain": "<Figure size 400x400 with 1 Axes>",
      "image/png": "[encoded data removed]"
     },
     "metadata": {},
     "output_type": "display_data"
    },
    {
     "name": "stdout",
     "output_type": "stream",
     "text": [
      "Policy after iteration: 30\n",
      "Got reward 84 times.\n"
     ]
    },
    {
     "data": {
      "text/plain": "<Figure size 400x400 with 1 Axes>",
      "image/png": "[encoded data removed]"
     },
     "metadata": {},
     "output_type": "display_data"
    },
    {
     "name": "stdout",
     "output_type": "stream",
     "text": [
      "Policy after iteration: 35\n",
      "Got reward 76 times.\n"
     ]
    },
    {
     "data": {
      "text/plain": "<Figure size 400x400 with 1 Axes>",
      "image/png": "[encoded data removed]"
     },
     "metadata": {},
     "output_type": "display_data"
    },
    {
     "name": "stdout",
     "output_type": "stream",
     "text": [
      "Policy after iteration: 40\n",
      "Got reward 74 times.\n"
     ]
    },
    {
     "data": {
      "text/plain": "<Figure size 400x400 with 1 Axes>",
      "image/png": "[encoded data removed]"
     },
     "metadata": {},
     "output_type": "display_data"
    },
    {
     "name": "stdout",
     "output_type": "stream",
     "text": [
      "Policy after iteration: 45\n",
      "Got reward 73 times.\n"
     ]
    },
    {
     "data": {
      "text/plain": "<Figure size 400x400 with 1 Axes>",
      "image/png": "[encoded data removed]"
     },
     "metadata": {},
     "output_type": "display_data"
    }
   ],
   "source": [
    "num_states = env.observation_space.n\n",
    "num_actions = env.action_space.n\n",
    "\n",
    "# Hyperparameters -> need some tuning\n",
    "gamma = 0.9\n",
    "num_iterations = 50 # evaluation-improvement iterations\n",
    "num_episodes = 100 # number of episodes used to estimate the Q-values\n",
    "\n",
    "# initialize epsilon to choose action randomly with P(epsilon) during episode generation\n",
    "epsilon = 0.2\n",
    "\n",
    "# Initialize a random policy\n",
    "policy = np.random.randint(num_actions, size=num_states)\n",
    "#plot_policy(policy)\n",
    "###########################################################################\n",
    "################### initialize Q outside the loop! ###################\n",
    "# array for storing Q-values\n",
    "Q = np.zeros([num_states, num_actions])\n",
    "\n",
    "\n",
    "# iterate over policy evaluation and improvement\n",
    "for iteration in range(num_iterations):\n",
    "    \n",
    "    ####### policy evaluation ###################\n",
    "    episode_count = 0\n",
    "    steps = 0\n",
    "    count_got_reward = 0 # count how often goal was reached       \n",
    "    \n",
    "    # Initialize cumulative returns and counts outside the episode loop\n",
    "    returns = {}  # Cumulative returns for each state-action pair across episodes\n",
    "    count = {}        # Visit counts for each state-action pair\n",
    "    \n",
    "    # Policy Evaluation: Estimate Q-values under the current policy\n",
    "    while episode_count < num_episodes:\n",
    "        state, _ = env.reset()\n",
    "        episode = [] # initialize empty episode        \n",
    "        got_reward = False # variable to check whether we reached the goal in the current episode\n",
    "        truncated = False\n",
    "        done = False\n",
    "        # generate an episode\n",
    "        while not (truncated or done):  # ensure that episode doesn't run forever because of loops\n",
    "            steps += 1 # counter for episode length\n",
    "            \n",
    "            ####################### Epsilon-greedy policy ##################################\n",
    "            if np.random.uniform(0, 1) < epsilon:  \n",
    "                action = env.action_space.sample()\n",
    "            else:\n",
    "                action = policy[state]  # Use the current policy             \n",
    "            \n",
    "            new_state, reward, done, truncated, _ = env.step(action) # transition to next state\n",
    "            if reward > 0:\n",
    "                got_reward = True # episode reached the goal\n",
    "             \n",
    "            # store episode\n",
    "            episode.append((state, action, reward))\n",
    "            state = new_state\n",
    "                      \n",
    "                \n",
    "        # did this episode reach the goal?\n",
    "        if got_reward:\n",
    "            count_got_reward += 1\n",
    "        episode_count += 1  # Increment the episode counter\n",
    "        \n",
    "\n",
    "        # compute the cumulative rewards and sort them according to their start (s,a)\n",
    "        acc_return = 0\n",
    "        visited_pairs = set() # track visited state-action pairs in this episode\n",
    "\n",
    "        for t in reversed(range(len(episode))):\n",
    "            s, a, r = episode[t]\n",
    "            \n",
    "            # check if we've seen this state-action pair before in this episode\n",
    "            if (s, a) not in visited_pairs:\n",
    "                visited_pairs.add((s, a)) # <-- mark the state-action pair as visited\n",
    "\n",
    "                # calculate the sum of discounted rewards from timestep t until the end of the episode (sum runs backward)           \n",
    "                acc_return = r + gamma * acc_return \n",
    "\n",
    "                # initialize pair if not yet visited in all episodes of this iteration\n",
    "                if (s, a) not in returns:\n",
    "                    returns[(s, a)] = 0\n",
    "                    count[(s, a)] = 0\n",
    "\n",
    "                # in the case of several visits, store sum\n",
    "                returns[(s, a)] += acc_return \n",
    "                count[(s, a)] += 1\n",
    "    \n",
    "    # cumulative_returns contains now the returns from s,a for all visits on all episodes\n",
    "    # Update Q-values after each episode\n",
    "    for (s, a), total_return in returns.items():\n",
    "        # Calculate average return for state-action pair across all episodes it's been visited\n",
    "        ###########################################################################\n",
    "        ############### do an inremental update here! ###############################\n",
    "        Q[s, a] = Q[s, a]+ 1 / count[(s, a)]*(total_return - Q[s, a])\n",
    "     \n",
    "    ####### policy improvement ###################\n",
    "    for state in range(num_states):\n",
    "        # replace  policy[state] = np.argmax(Q[state, :]) by\n",
    "        best_actions = np.argwhere(Q[state] == np.amax(Q[state])).flatten()\n",
    "        policy[state] = np.random.choice(best_actions)\n",
    "        \n",
    "    # plot the policy after after every fifth iteration\n",
    "    if (iteration % 5 == 0):\n",
    "        print(f\"Policy after iteration: {iteration}\")\n",
    "        print(f\"Got reward {count_got_reward} times.\")\n",
    "        plot_policy(policy)"
   ]
  },
  {
   "cell_type": "markdown",
   "metadata": {},
   "source": [
    "## Exercise C4 (a) (1 Point)\n",
    "\n",
    "Implement a variation of Monte Carlo Control that uses a linear decay schedule for $\\epsilon$. \n",
    "\n",
    "More concretely, we assume three hyperparameters to be given: \n",
    "- $\\epsilon_{\\text{start}}$, the start value for $\\epsilon$,\n",
    "- $d$, the value by which $\\epsilon$ is decreased after each policy update (decay step size), \n",
    "i.e. $$\\epsilon \\leftarrow \\epsilon - d$$ after each policy update, and\n",
    "- $\\epsilon_{\\text{min}}$, the minimal value that $\\epsilon$ should not fell below, i.e. $\\epsilon \\geq \\epsilon_{\\text{min}}$ should always hold.\n",
    "\n",
    "Extend the Monte Carlo algorithm below with this decay schedule for $\\epsilon$ and add explanatory comments at all points of the code that you adapt.\n",
    "\n",
    "(The algorithm given below is except for the already given initialization of the hyperparameters identical to the Monte Carlo Control algorithm from above.) "
   ]
  },
  {
   "cell_type": "code",
   "execution_count": 46,
   "metadata": {
    "ExecuteTime": {
     "end_time": "2023-12-11T23:31:38.605953Z",
     "start_time": "2023-12-11T23:31:36.877194Z"
    }
   },
   "outputs": [
    {
     "name": "stdout",
     "output_type": "stream",
     "text": [
      "Policy after iteration: 0\n",
      "Got reward 1 times.\n"
     ]
    },
    {
     "data": {
      "text/plain": "<Figure size 400x400 with 1 Axes>",
      "image/png": "[encoded data removed]"
     },
     "metadata": {},
     "output_type": "display_data"
    },
    {
     "name": "stdout",
     "output_type": "stream",
     "text": [
      "Policy after iteration: 5\n",
      "Got reward 87 times.\n"
     ]
    },
    {
     "data": {
      "text/plain": "<Figure size 400x400 with 1 Axes>",
      "image/png": "[encoded data removed]"
     },
     "metadata": {},
     "output_type": "display_data"
    },
    {
     "name": "stdout",
     "output_type": "stream",
     "text": [
      "Policy after iteration: 10\n",
      "Got reward 91 times.\n"
     ]
    },
    {
     "data": {
      "text/plain": "<Figure size 400x400 with 1 Axes>",
      "image/png": "[encoded data removed]"
     },
     "metadata": {},
     "output_type": "display_data"
    },
    {
     "name": "stdout",
     "output_type": "stream",
     "text": [
      "Policy after iteration: 15\n",
      "Got reward 88 times.\n"
     ]
    },
    {
     "data": {
      "text/plain": "<Figure size 400x400 with 1 Axes>",
      "image/png": "[encoded data removed]"
     },
     "metadata": {},
     "output_type": "display_data"
    },
    {
     "name": "stdout",
     "output_type": "stream",
     "text": [
      "Policy after iteration: 20\n",
      "Got reward 88 times.\n"
     ]
    },
    {
     "data": {
      "text/plain": "<Figure size 400x400 with 1 Axes>",
      "image/png": "[encoded data removed]"
     },
     "metadata": {},
     "output_type": "display_data"
    },
    {
     "name": "stdout",
     "output_type": "stream",
     "text": [
      "Policy after iteration: 25\n",
      "Got reward 90 times.\n"
     ]
    },
    {
     "data": {
      "text/plain": "<Figure size 400x400 with 1 Axes>",
      "image/png": "[encoded data removed]"
     },
     "metadata": {},
     "output_type": "display_data"
    },
    {
     "name": "stdout",
     "output_type": "stream",
     "text": [
      "Policy after iteration: 30\n",
      "Got reward 87 times.\n"
     ]
    },
    {
     "data": {
      "text/plain": "<Figure size 400x400 with 1 Axes>",
      "image/png": "[encoded data removed]"
     },
     "metadata": {},
     "output_type": "display_data"
    },
    {
     "name": "stdout",
     "output_type": "stream",
     "text": [
      "Policy after iteration: 35\n",
      "Got reward 88 times.\n"
     ]
    },
    {
     "data": {
      "text/plain": "<Figure size 400x400 with 1 Axes>",
      "image/png": "[encoded data removed]"
     },
     "metadata": {},
     "output_type": "display_data"
    },
    {
     "name": "stdout",
     "output_type": "stream",
     "text": [
      "Policy after iteration: 40\n",
      "Got reward 90 times.\n"
     ]
    },
    {
     "data": {
      "text/plain": "<Figure size 400x400 with 1 Axes>",
      "image/png": "[encoded data removed]"
     },
     "metadata": {},
     "output_type": "display_data"
    },
    {
     "name": "stdout",
     "output_type": "stream",
     "text": [
      "Policy after iteration: 45\n",
      "Got reward 85 times.\n"
     ]
    },
    {
     "data": {
      "text/plain": "<Figure size 400x400 with 1 Axes>",
      "image/png": "[encoded data removed]"
     },
     "metadata": {},
     "output_type": "display_data"
    }
   ],
   "source": [
    "num_states = env.observation_space.n\n",
    "num_actions = env.action_space.n\n",
    "\n",
    "gamma = 0.9\n",
    "num_iterations = 50 \n",
    "num_episodes = 100 \n",
    "\n",
    "# Hyperparameter for the decay schedule: \n",
    "epsilon_max = 0.5\n",
    "d = 0.01\n",
    "epsilon_min = 0.1\n",
    "\n",
    "policy = np.random.randint(num_actions, size=num_states)\n",
    "\n",
    "Q = np.zeros([num_states, num_actions])\n",
    "\n",
    "for iteration in range(num_iterations):\n",
    "    \n",
    "    episode_count = 0\n",
    "    steps = 0\n",
    "    count_got_reward = 0     \n",
    "\n",
    "    returns = {}  \n",
    "    count = {}        \n",
    "    \n",
    "    while episode_count < num_episodes:\n",
    "        state, _ = env.reset()\n",
    "        episode = []       \n",
    "        got_reward = False \n",
    "        truncated = False\n",
    "        done = False\n",
    "\n",
    "        while not (truncated or done):  \n",
    "            steps += 1 \n",
    "            \n",
    "            if np.random.uniform(0, 1) < epsilon:  \n",
    "                action = env.action_space.sample()\n",
    "            else:\n",
    "                action = policy[state]            \n",
    "            \n",
    "            new_state, reward, done, truncated, _ = env.step(action)\n",
    "            if reward > 0:\n",
    "                got_reward = True \n",
    "             \n",
    "            episode.append((state, action, reward))\n",
    "            state = new_state\n",
    "                      \n",
    "                \n",
    "        if got_reward:\n",
    "            count_got_reward += 1\n",
    "        episode_count += 1  \n",
    "        \n",
    "        acc_return = 0\n",
    "        visited_pairs = set() \n",
    "\n",
    "        for t in reversed(range(len(episode))):\n",
    "            s, a, r = episode[t]\n",
    "            \n",
    "            if (s, a) not in visited_pairs:\n",
    "                visited_pairs.add((s, a)) \n",
    "                acc_return = r + gamma * acc_return \n",
    "\n",
    "                if (s, a) not in returns:\n",
    "                    returns[(s, a)] = 0\n",
    "                    count[(s, a)] = 0\n",
    "\n",
    "                returns[(s, a)] += acc_return \n",
    "                count[(s, a)] += 1\n",
    "    \n",
    "    for (s, a), total_return in returns.items():\n",
    "        Q[s, a] = Q[s, a]+ 1 / count[(s, a)]*(total_return - Q[s, a])\n",
    "     \n",
    "    for state in range(num_states):\n",
    "        best_actions = np.argwhere(Q[state] == np.amax(Q[state])).flatten()\n",
    "        policy[state] = np.random.choice(best_actions)\n",
    "        \n",
    "    if (iteration % 5 == 0):\n",
    "        print(f\"Policy after iteration: {iteration}\")\n",
    "        print(f\"Got reward {count_got_reward} times.\")\n",
    "        plot_policy(policy)\n",
    "    \n",
    "    # Only if epsilon is larger than epsilon_min then update epsilon\n",
    "    if epsilon >= epsilon_min:\n",
    "        epsilon = epsilon - d\n"
   ]
  },
  {
   "cell_type": "markdown",
   "metadata": {},
   "source": [
    "## Exercise C4 (b) (2 Points)\n",
    "\n",
    "Implement a variation of Monte Carlo Control that is extended with a convergency check. \n",
    "\n",
    "More concretely, we assume a hyperparameter $\\delta > 0$ to be given. If the maximum change in the action value function for all state-action pair in an iteration is less than $\\delta$, then the algorithm should immediately terminate.\n",
    "\n",
    "Extend the Monte Carlo algorithm below with this convergency check and add again explanatory comments at all points of the code that you adapt."
   ]
  },
  {
   "cell_type": "code",
   "execution_count": 47,
   "metadata": {
    "ExecuteTime": {
     "end_time": "2023-12-11T23:31:38.953826Z",
     "start_time": "2023-12-11T23:31:38.761659Z"
    }
   },
   "outputs": [
    {
     "name": "stdout",
     "output_type": "stream",
     "text": [
      "Policy after iteration: 0\n",
      "Got reward 0 times.\n"
     ]
    },
    {
     "data": {
      "text/plain": "<Figure size 400x400 with 1 Axes>",
      "image/png": "[encoded data removed]"
     },
     "metadata": {},
     "output_type": "display_data"
    },
    {
     "name": "stdout",
     "output_type": "stream",
     "text": [
      "max_change:0.0\n",
      "0.0 < 0.5:True\n",
      "Converged after 1 iterations.\n"
     ]
    }
   ],
   "source": [
    "num_states = env.observation_space.n\n",
    "num_actions = env.action_space.n\n",
    "\n",
    "gamma = 0.9\n",
    "num_iterations = 300\n",
    "num_episodes = 100 \n",
    "\n",
    "epsilon = 0.05\n",
    "\n",
    "# Hyperparameter for the convergence check: \n",
    "delta = 0.5\n",
    "\n",
    "policy = np.random.randint(num_actions, size=num_states)\n",
    "\n",
    "Q = np.zeros([num_states, num_actions])\n",
    "prev_Q = Q.copy()\n",
    "\n",
    "for iteration in range(num_iterations):\n",
    "    \n",
    "    episode_count = 0\n",
    "    steps = 0\n",
    "    count_got_reward = 0     \n",
    "\n",
    "    returns = {}  \n",
    "    count = {}        \n",
    "    \n",
    "    while episode_count < num_episodes:\n",
    "        state, _ = env.reset()\n",
    "        episode = []       \n",
    "        got_reward = False \n",
    "        truncated = False\n",
    "        done = False\n",
    "\n",
    "        while not (truncated or done):\n",
    "            steps += 1 \n",
    "            \n",
    "            if np.random.uniform(0, 1) < epsilon:  \n",
    "                action = env.action_space.sample()\n",
    "            else:\n",
    "                action = policy[state]            \n",
    "            \n",
    "            new_state, reward, done, truncated, _ = env.step(action)\n",
    "            if reward > 0:\n",
    "                got_reward = True \n",
    "             \n",
    "            episode.append((state, action, reward))\n",
    "            state = new_state\n",
    "                      \n",
    "                \n",
    "        if got_reward:\n",
    "            count_got_reward += 1\n",
    "        episode_count += 1  \n",
    "        \n",
    "        acc_return = 0\n",
    "        visited_pairs = set() \n",
    "\n",
    "        for t in reversed(range(len(episode))):\n",
    "            s, a, r = episode[t]\n",
    "            \n",
    "            if (s, a) not in visited_pairs:\n",
    "                visited_pairs.add((s, a)) \n",
    "                acc_return = r + gamma * acc_return \n",
    "\n",
    "                if (s, a) not in returns:\n",
    "                    returns[(s, a)] = 0\n",
    "                    count[(s, a)] = 0\n",
    "\n",
    "                returns[(s, a)] += acc_return \n",
    "                count[(s, a)] += 1\n",
    "                \n",
    "    for (s, a), total_return in returns.items():\n",
    "        Q[s, a] = Q[s, a]+ 1 / count[(s, a)]*(total_return - Q[s, a])\n",
    "\n",
    "    for state in range(num_states):\n",
    "        best_actions = np.argwhere(Q[state] == np.amax(Q[state])).flatten()\n",
    "        policy[state] = np.random.choice(best_actions)\n",
    "\n",
    "    # Check for convergence\n",
    "    # Warning - algorithm seems to be stochastic so there's high probability it will converge after 1 iteration because max change of Q was 0. Hence, try multiple times.\n",
    "    if iteration > 0:\n",
    "        max_change = np.max(np.abs(Q - prev_Q))\n",
    "        # Removing these print statements seems increase probability of converging after 1 iteration.\n",
    "        print(f\"max_change:{max_change}\")\n",
    "        print(f\"{max_change} < {delta}:{max_change < delta}\")\n",
    "        if max_change < delta:\n",
    "            print(f\"Converged after {iteration} iterations.\")\n",
    "            break\n",
    "    prev_Q = Q.copy()\n",
    "        \n",
    "    if (iteration % 5 == 0):\n",
    "        print(f\"Policy after iteration: {iteration}\")\n",
    "        print(f\"Got reward {count_got_reward} times.\")\n",
    "        plot_policy(policy)"
   ]
  },
  {
   "cell_type": "markdown",
   "metadata": {},
   "source": [
    "## Exercise C4 (c) (1 Point)\n",
    "\n",
    "The above algorithm (Monte Carlo Control with convergence check) terminates sometimes already after the first iteration. What is the reason for this behavior? "
   ]
  },
  {
   "cell_type": "markdown",
   "metadata": {},
   "source": [
    "Answer:"
   ]
  },
  {
   "cell_type": "markdown",
   "source": [
    "Algorithm is stochastic. There is variance since we introduce randomness in 3 different places:\n",
    "\n",
    "1. When we initialize policy\n",
    "2. When we decide on action (np.random.uniform(0, 1))\n",
    "3. When we update policy with random choice among best actions.\n",
    "\n",
    "All these leads to maximum change in the action value function to be 0 sometimes.\n",
    "Since 0 <= $\\delta$, algorithm stops after first iteration."
   ],
   "metadata": {
    "collapsed": false
   }
  }
 ],
 "metadata": {
  "kernelspec": {
   "display_name": "Python 3.10.13 ('rl23')",
   "language": "python",
   "name": "python3"
  },
  "language_info": {
   "codemirror_mode": {
    "name": "ipython",
    "version": 3
   },
   "file_extension": ".py",
   "mimetype": "text/x-python",
   "name": "python",
   "nbconvert_exporter": "python",
   "pygments_lexer": "ipython3",
   "version": "3.10.11"
  },
  "orig_nbformat": 4,
  "vscode": {
   "interpreter": {
    "hash": "8aba6b08deb686889bfd57eea77364add1eb4e3ea064d848c1af21c0dc2449c6"
   }
  }
 },
 "nbformat": 4,
 "nbformat_minor": 2
}
