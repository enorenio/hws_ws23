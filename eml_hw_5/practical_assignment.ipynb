{
 "cells": [
  {
   "cell_type": "code",
   "execution_count": null,
   "metadata": {},
   "outputs": [],
   "source": [
    "import numpy as np\n",
    "import matplotlib.pyplot as plt\n",
    "import pandas as pd\n"
   ]
  },
  {
   "cell_type": "markdown",
   "metadata": {},
   "source": [
    "## Task 1: K-Means\n",
    "Implement k-Means from scratch with the euclidean distance.\n",
    "Complete the functions recompute_centroids, recompute_assigments and k_means.\n",
    "Implement early stopping when the algorithm has converged to a solution.\n",
    "Use the numpy arrays in the code to represent the cluster assigments and centroids."
   ]
  },
  {
   "cell_type": "code",
   "execution_count": null,
   "metadata": {},
   "outputs": [],
   "source": [
    "def k_means(X, k, centroids,n_iter=100):\n",
    "    labels = np.zeros(X.shape[0])\n",
    "    for i in range(n_iter):\n",
    "        # insert code here\n",
    "        pass\n",
    "    return labels, centroids\n",
    "\n",
    "def recompute_centroids(X, k, labels):\n",
    "    centroids = np.zeros((k, X.shape[1]))\n",
    "    # insert code here\n",
    "\n",
    "    return centroids\n",
    "\n",
    "def recompute_assignments(X, k, centroids):\n",
    "    labels = np.zeros(X.shape[0])\n",
    "    # insert code here\n",
    "\n",
    "    return labels\n",
    "\n",
    "# generate test set of two gaussian clusters\n",
    "np.random.seed(42)\n",
    "X1 = np.random.multivariate_normal([0, 0], [[1, 0], [0, 1]], 100)\n",
    "X2 = np.random.multivariate_normal([2, 2], [[1, 0], [0, 1]], 100)\n",
    "X = np.vstack((X1, X2))\n",
    "\n",
    "# run k-means\n",
    "k = 2\n",
    "# take random centroids from data\n",
    "centroids = X[np.random.choice(X.shape[0], k, replace=False), :]\n",
    "labels, centroids = k_means(X, k, centroids)\n",
    "\n",
    "# plot results here"
   ]
  },
  {
   "cell_type": "markdown",
   "metadata": {},
   "source": [
    "## K-Medians\n",
    "Now implement K-medians. Here, the centroids are made up of the median of each dimension instead of the average.\n",
    "Compute the respective within cluster variations for k-means and k-medians and compare them.\n",
    "Does a better objective also result in a subjectively better clustering?"
   ]
  },
  {
   "cell_type": "code",
   "execution_count": null,
   "metadata": {},
   "outputs": [],
   "source": [
    "def k_medians(X, k, medians,n_iter=100):\n",
    "    labels = np.zeros(X.shape[0])\n",
    "    for i in range(n_iter):\n",
    "        # insert code here\n",
    "        pass\n",
    "    return labels, medians\n",
    "\n",
    "def recompute_medians(X, k, labels):\n",
    "    medians = np.zeros((k, X.shape[1]))\n",
    "    # insert code here\n",
    "    return medians\n",
    "\n",
    "\n",
    "# generate test set of two gaussian clusters add noise on \n",
    "np.random.seed(42)\n",
    "X1 = np.random.multivariate_normal([0, 0], [[1, 0], [0, 1]], 30)\n",
    "X2 = np.random.multivariate_normal([2, 2], [[1, 0], [0, 1]], 30)\n",
    "noise = np.array([[8,8],[8,7],[7,8],[7,7]])\n",
    "X = np.vstack((X1, X2, noise))\n",
    "\n",
    "# run k-means\n",
    "k = 2\n",
    "centroids = X[np.random.choice(X.shape[0], k, replace=False), :]\n",
    "labels, centroids = k_means(X, k, centroids)\n",
    "in_cluster_variation = 0\n",
    "# compute within cluster variation\n",
    "\n",
    "# plot results\n",
    "plt.figure()\n",
    "plt.title('K-means, W:'+str(in_cluster_variation))\n",
    "plt.scatter(X[:, 0], X[:, 1], c=labels, s=50)\n",
    "plt.scatter(centroids[:, 0], centroids[:, 1], c='r', s=100)\n",
    "\n",
    "# run k-medoids\n",
    "k = 2\n",
    "medians = X[np.random.choice(X.shape[0], k, replace=False), :]\n",
    "labels, medians = k_medians(X, k, medians)\n",
    "in_cluster_variation = 0\n",
    "# compute within cluster variation\n",
    "\n",
    "# plot results here\n",
    "\n"
   ]
  },
  {
   "cell_type": "markdown",
   "metadata": {},
   "source": [
    "## Moons\n",
    "You now get the moons dataset for task 2.1. Perform k-means clustering and analyze the results."
   ]
  },
  {
   "cell_type": "code",
   "execution_count": null,
   "metadata": {},
   "outputs": [],
   "source": [
    "moons = pd.read_csv('moons.csv').to_numpy()\n",
    "plt.scatter(moons[:, 0], moons[:, 1], s=50)\n"
   ]
  },
  {
   "cell_type": "markdown",
   "metadata": {},
   "source": [
    "## Hierarchical\n",
    "Instead, we turn to hierarchical clustering.\n",
    "Implement both single and complete linkage clustering, plot the results and argue which is better."
   ]
  },
  {
   "cell_type": "code",
   "execution_count": null,
   "metadata": {},
   "outputs": [],
   "source": [
    "from sklearn.cluster import AgglomerativeClustering\n"
   ]
  },
  {
   "cell_type": "markdown",
   "metadata": {},
   "source": [
    "## Task 2\n",
    "You are provided a dataset of 8x8 gray value images.\n",
    "Perform both PCA and t-SNE embeddings (perplexity=10) to embed the dataset into the two dimensional space and compare the resulting low-dimensional data.\n",
    "Explain, why each respective method performs better/worse."
   ]
  },
  {
   "cell_type": "code",
   "execution_count": null,
   "metadata": {},
   "outputs": [],
   "source": [
    "from sklearn.manifold import TSNE\n",
    "from sklearn.decomposition import PCA\n",
    "from sklearn.datasets import load_digits\n",
    "\n",
    "digits = load_digits()\n",
    "X = digits.data\n",
    "# plot sample images\n",
    "plt.figure(figsize=(10, 1))\n",
    "for i in range(10):\n",
    "    plt.subplot(1, 10, i + 1)\n",
    "    plt.imshow(X[i].reshape(8, 8), cmap='gray')\n",
    "    plt.axis('off')\n"
   ]
  },
  {
   "cell_type": "code",
   "execution_count": null,
   "metadata": {},
   "outputs": [],
   "source": [
    "# do PCA here"
   ]
  },
  {
   "cell_type": "code",
   "execution_count": null,
   "metadata": {},
   "outputs": [],
   "source": [
    "# do TSNE here"
   ]
  },
  {
   "cell_type": "markdown",
   "metadata": {},
   "source": [
    "**Analyze the results here**"
   ]
  }
 ],
 "metadata": {
  "kernelspec": {
   "display_name": "flows",
   "language": "python",
   "name": "python3"
  },
  "language_info": {
   "codemirror_mode": {
    "name": "ipython",
    "version": 3
   },
   "file_extension": ".py",
   "mimetype": "text/x-python",
   "name": "python",
   "nbconvert_exporter": "python",
   "pygments_lexer": "ipython3",
   "version": "3.10.13"
  },
  "orig_nbformat": 4
 },
 "nbformat": 4,
 "nbformat_minor": 2
}
