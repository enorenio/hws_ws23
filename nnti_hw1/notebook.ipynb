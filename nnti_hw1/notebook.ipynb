{
 "cells": [
  {
   "cell_type": "markdown",
   "id": "d1ad27e39e6f0273",
   "metadata": {
    "collapsed": false
   },
   "source": [
    "<center>\n",
    "NNTI Assignment 1\n",
    "\n",
    "November 2, 2023\n",
    "\n",
    "Name: Aleksey Morshnev\n",
    "Student ID: 7042691\n",
    "Email: almo00008@stud.uni-saarland.de\n",
    "</center>"
   ]
  },
  {
   "cell_type": "code",
   "execution_count": 3,
   "id": "9a3606bdd53f010e",
   "metadata": {
    "collapsed": false,
    "ExecuteTime": {
     "end_time": "2023-11-19T00:14:51.249440700Z",
     "start_time": "2023-11-19T00:14:51.200174700Z"
    }
   },
   "outputs": [],
   "source": [
    "# List of packages you want to check/install\n",
    "packages_to_install = [\"numpy\", \"pytorch torchvision torchaudio pytorch-cuda=11.8 -c pytorch -c nvidia\", \"pandas\"]"
   ]
  },
  {
   "cell_type": "code",
   "execution_count": 4,
   "id": "e8e304f7db55308a",
   "metadata": {
    "collapsed": false,
    "ExecuteTime": {
     "end_time": "2023-11-19T00:14:58.392346500Z",
     "start_time": "2023-11-19T00:14:51.205243100Z"
    }
   },
   "outputs": [
    {
     "name": "stdout",
     "output_type": "stream",
     "text": [
      "numpy is already installed.\n",
      "pytorch torchvision torchaudio pytorch-cuda=11.8 -c pytorch -c nvidia is not installed. Installing it now...\n",
      "Collecting package metadata (current_repodata.json): done\r\n",
      "Solving environment: done\r\n",
      "\r\n",
      "# All requested packages already installed.\r\n",
      "\r\n",
      "pandas is already installed.\n",
      "CPU times: user 253 ms, sys: 72.6 ms, total: 326 ms\n",
      "Wall time: 7.17 s\n"
     ]
    }
   ],
   "source": [
    "%%time\n",
    "import importlib\n",
    "\n",
    "for package_name in packages_to_install:\n",
    "    try:\n",
    "        importlib.import_module(package_name)\n",
    "        print(f\"{package_name} is already installed.\")\n",
    "    except ImportError:\n",
    "        print(f\"{package_name} is not installed. Installing it now...\")\n",
    "        !conda install -y {package_name}"
   ]
  },
  {
   "cell_type": "markdown",
   "id": "c2733a3576dca7d8",
   "metadata": {
    "collapsed": false
   },
   "source": [
    "# Exercise 1"
   ]
  },
  {
   "cell_type": "code",
   "execution_count": 5,
   "id": "initial_id",
   "metadata": {
    "collapsed": true,
    "jupyter": {
     "outputs_hidden": true
    },
    "ExecuteTime": {
     "end_time": "2023-11-19T00:14:58.393852200Z",
     "start_time": "2023-11-19T00:14:58.393345600Z"
    }
   },
   "outputs": [],
   "source": [
    "import numpy as np"
   ]
  },
  {
   "cell_type": "code",
   "execution_count": 6,
   "id": "5059b5ba61762c3c",
   "metadata": {
    "collapsed": false,
    "ExecuteTime": {
     "end_time": "2023-11-19T00:14:58.414645400Z",
     "start_time": "2023-11-19T00:14:58.395364900Z"
    }
   },
   "outputs": [
    {
     "data": {
      "text/plain": "array([[0.04550158, 0.51511683, 0.86741125, 0.67078425, 0.29484577,\n        0.41868973, 0.27516267, 0.84931748, 0.34744847, 0.55014228,\n        0.89548734, 0.36057956, 0.93743805, 0.97767309, 0.269396  ,\n        0.37150152],\n       [0.00276488, 0.40221373, 0.61241231, 0.10468235, 0.69750856,\n        0.28377318, 0.36101104, 0.86131137, 0.19978287, 0.96424361,\n        0.44014827, 0.93990482, 0.05921269, 0.9719772 , 0.83305531,\n        0.71964283],\n       [0.74948089, 0.0383741 , 0.17474652, 0.670965  , 0.25031129,\n        0.07608257, 0.82171381, 0.76029832, 0.57492581, 0.38441729,\n        0.57097354, 0.82736696, 0.77216461, 0.55076766, 0.44004492,\n        0.51178304],\n       [0.28889222, 0.93363312, 0.62399447, 0.7720374 , 0.75274288,\n        0.92488178, 0.70041117, 0.79104486, 0.83353621, 0.52855028,\n        0.69869742, 0.47746754, 0.56647448, 0.3445859 , 0.81903138,\n        0.25064436]])"
     },
     "execution_count": 6,
     "metadata": {},
     "output_type": "execute_result"
    }
   ],
   "source": [
    "x = np.random.rand(4, 16)\n",
    "x"
   ]
  },
  {
   "cell_type": "code",
   "execution_count": 7,
   "id": "5043f1457f0c5812",
   "metadata": {
    "collapsed": false,
    "ExecuteTime": {
     "end_time": "2023-11-19T00:14:58.443353700Z",
     "start_time": "2023-11-19T00:14:58.428170Z"
    }
   },
   "outputs": [
    {
     "data": {
      "text/plain": "(array([[0.31471193, 0.6119991 , 0.72164407, 0.6772504 , 0.22187146,\n         0.30497646, 0.8402459 , 0.55882955, 0.4944321 , 0.51487914,\n         0.23756689, 0.84726512, 0.72477769, 0.35066281, 0.42628792,\n         0.04227861],\n        [0.4602319 , 0.98973719, 0.39527647, 0.18656558, 0.5941744 ,\n         0.48163301, 0.42762415, 0.25963876, 0.06872325, 0.01322862,\n         0.17898043, 0.14029477, 0.45634455, 0.19464341, 0.82011009,\n         0.06034781],\n        [0.41493001, 0.64987542, 0.95079456, 0.00235624, 0.22643123,\n         0.40857704, 0.39556513, 0.646363  , 0.42720444, 0.06053353,\n         0.75881594, 0.0975174 , 0.00318101, 0.50265911, 0.1252304 ,\n         0.25155297],\n        [0.43871123, 0.07582509, 0.30265403, 0.28963296, 0.15684644,\n         0.40684099, 0.95291481, 0.08837379, 0.88627061, 0.43716978,\n         0.77137709, 0.9605225 , 0.50234068, 0.68724342, 0.93626472,\n         0.98900461],\n        [0.50071378, 0.17293671, 0.93929225, 0.90323189, 0.85986226,\n         0.16211929, 0.65663857, 0.05658409, 0.10041409, 0.73740456,\n         0.66834004, 0.754924  , 0.39198453, 0.31198941, 0.34786941,\n         0.8247267 ],\n        [0.09449175, 0.08408632, 0.18463762, 0.53810182, 0.84150689,\n         0.74820198, 0.74186026, 0.83958153, 0.19184105, 0.41976646,\n         0.30144082, 0.73078645, 0.31328741, 0.38682165, 0.46249977,\n         0.21276901],\n        [0.93929809, 0.22982156, 0.95012392, 0.94946283, 0.4776401 ,\n         0.82162214, 0.93981684, 0.61258048, 0.10129799, 0.9325718 ,\n         0.09168159, 0.27519222, 0.77675734, 0.44688018, 0.61917129,\n         0.57059352],\n        [0.54069029, 0.23548085, 0.16987355, 0.67690414, 0.0387533 ,\n         0.05201976, 0.85120734, 0.70227897, 0.01198547, 0.34034832,\n         0.87104239, 0.67116919, 0.78286341, 0.42162618, 0.11536893,\n         0.51485986],\n        [0.18178617, 0.51619703, 0.71709617, 0.10381121, 0.2981459 ,\n         0.52183207, 0.3132084 , 0.31692864, 0.98530266, 0.41317041,\n         0.22553098, 0.25479472, 0.79080276, 0.79208644, 0.07378245,\n         0.29762043],\n        [0.17955895, 0.16240835, 0.99994768, 0.09729829, 0.38262617,\n         0.23906955, 0.49739862, 0.85041409, 0.35320074, 0.72468221,\n         0.31855863, 0.8697841 , 0.51495118, 0.66392397, 0.52650529,\n         0.81754341],\n        [0.35697712, 0.01082402, 0.47501299, 0.57255676, 0.00544992,\n         0.67970638, 0.52594979, 0.46406415, 0.1966468 , 0.68919667,\n         0.51756021, 0.54473353, 0.01029085, 0.98685317, 0.95763419,\n         0.14482641],\n        [0.098716  , 0.32915113, 0.97991693, 0.82881479, 0.76055203,\n         0.79803574, 0.15179231, 0.85070816, 0.28145255, 0.42501391,\n         0.81020839, 0.82684289, 0.86723836, 0.08923973, 0.60184973,\n         0.68650138],\n        [0.41322089, 0.20479336, 0.29655026, 0.00507634, 0.59840474,\n         0.04003441, 0.89529944, 0.89884081, 0.65854946, 0.27342529,\n         0.48329212, 0.71792818, 0.81701455, 0.70799599, 0.09662382,\n         0.79974325],\n        [0.32740621, 0.38161991, 0.53880361, 0.36021447, 0.44464309,\n         0.17036698, 0.62824475, 0.83505899, 0.43833821, 0.02264374,\n         0.06329276, 0.8863393 , 0.91290805, 0.21266724, 0.53490053,\n         0.49976026],\n        [0.29249705, 0.32609302, 0.26300466, 0.62414242, 0.97660792,\n         0.11064922, 0.76528056, 0.54508502, 0.95446595, 0.58374001,\n         0.54584231, 0.71050131, 0.48828262, 0.00749846, 0.60082318,\n         0.08888707],\n        [0.50787468, 0.7939369 , 0.2637149 , 0.79849126, 0.20678706,\n         0.92980815, 0.04047273, 0.62104609, 0.35722138, 0.87136068,\n         0.7900877 , 0.86591341, 0.17558369, 0.61861416, 0.58172446,\n         0.75101073]]),\n array([[4.99961563e-01, 2.00218999e-01, 2.85666164e-01, 5.63782473e-01,\n         8.59728990e-02, 7.14671771e-01, 2.01186033e-01, 9.04157689e-01,\n         8.14476727e-01, 1.04605395e-01, 2.07905176e-01, 5.36702999e-01,\n         7.78715101e-01, 6.19496227e-01, 4.08857644e-01, 5.67782947e-01],\n        [1.22583346e-01, 5.76361224e-01, 8.06584987e-01, 5.46852762e-01,\n         6.70570577e-01, 3.33527314e-01, 2.00246564e-01, 8.69363369e-01,\n         1.31009837e-01, 6.07723190e-01, 5.75159770e-01, 2.20100279e-01,\n         8.56834902e-01, 1.66509745e-02, 3.61761121e-01, 5.61692003e-01],\n        [3.71381595e-02, 8.35081798e-02, 9.42111545e-01, 9.18340000e-01,\n         6.61492885e-01, 1.49873410e-01, 4.20057744e-01, 6.68146155e-01,\n         7.80541468e-01, 6.95343887e-01, 7.81562221e-01, 4.15607470e-01,\n         6.01449383e-02, 2.63756056e-02, 9.40150744e-01, 2.38215012e-01],\n        [9.01793547e-01, 1.27945955e-01, 9.82725657e-01, 6.52949344e-01,\n         3.56811158e-01, 6.01302512e-01, 1.16716676e-01, 5.84007398e-01,\n         7.03181965e-01, 5.68894455e-01, 6.41619986e-01, 7.87391781e-01,\n         1.18415315e-01, 4.97268373e-01, 3.43581763e-02, 5.26959725e-01],\n        [2.34636987e-01, 9.26855573e-01, 9.81332356e-01, 6.74630775e-01,\n         5.10633146e-01, 5.63153827e-01, 6.22205087e-02, 1.39880346e-01,\n         5.61910881e-01, 8.00516206e-01, 4.02486391e-01, 7.05281759e-01,\n         3.48285123e-01, 4.64079884e-01, 4.80919428e-01, 8.49795742e-01],\n        [7.69811200e-01, 4.91042804e-01, 3.55271618e-01, 1.06136009e-01,\n         6.96705099e-01, 3.11215205e-01, 4.02041904e-01, 7.12103799e-01,\n         7.48381419e-01, 6.10219779e-01, 2.63078120e-01, 9.31888903e-02,\n         9.85063124e-01, 2.06715302e-02, 9.13690293e-01, 5.79565798e-01],\n        [8.82642166e-01, 5.28306966e-01, 3.12182509e-01, 5.31474517e-01,\n         9.03438384e-01, 1.21020026e-01, 8.89367231e-01, 6.57709020e-01,\n         8.89899157e-01, 8.96966141e-01, 8.05392741e-01, 4.13525667e-01,\n         9.47547868e-01, 6.19025715e-01, 2.45673087e-01, 6.77800720e-01],\n        [1.13912436e-01, 2.62768142e-01, 2.34350400e-01, 7.53570485e-01,\n         4.23590245e-01, 5.15479456e-04, 3.91801304e-01, 2.37532694e-01,\n         9.14642144e-01, 5.01603052e-01, 8.49711501e-01, 9.37262255e-01,\n         3.63917830e-02, 4.81448821e-01, 2.79099011e-02, 2.05579234e-01],\n        [1.35151306e-01, 6.19424299e-01, 7.72264976e-01, 1.87540420e-01,\n         5.53414973e-01, 1.08630276e-01, 5.86889066e-01, 4.95149045e-01,\n         4.48932849e-01, 6.68412990e-01, 2.53007943e-01, 3.61526719e-01,\n         5.49270907e-01, 8.29503835e-01, 1.35314066e-01, 9.02413074e-01],\n        [3.92810891e-01, 1.31351337e-01, 9.25392521e-01, 6.59948332e-01,\n         5.66319173e-01, 1.57653929e-01, 8.22581790e-01, 9.59280322e-01,\n         6.99521827e-01, 9.95996190e-01, 6.07003044e-01, 1.17405028e-01,\n         5.70444920e-01, 6.60409537e-01, 1.50701998e-01, 3.34139868e-01],\n        [5.38433036e-02, 9.56146930e-01, 8.17255958e-01, 5.02867468e-01,\n         6.01181669e-01, 1.79759700e-01, 8.59285847e-01, 1.06130403e-01,\n         6.36995599e-01, 6.47346648e-02, 5.68238654e-01, 6.04301277e-01,\n         2.72756915e-01, 2.62714157e-01, 4.33529327e-01, 2.42490775e-01],\n        [9.58315991e-01, 6.42699435e-01, 8.74363883e-01, 4.79912835e-01,\n         8.45311813e-01, 7.27075164e-02, 4.29990017e-01, 3.87030537e-01,\n         5.59482357e-01, 7.93447839e-01, 3.99161437e-01, 1.74987980e-01,\n         1.42661511e-01, 9.32345506e-01, 6.26384730e-01, 7.39862937e-01],\n        [2.61307663e-01, 4.65531300e-01, 6.09392583e-01, 7.67426603e-01,\n         2.49500671e-01, 7.24843222e-01, 2.84464681e-01, 6.68971960e-01,\n         3.79924125e-01, 4.23499842e-01, 9.25263858e-01, 1.38136437e-01,\n         5.00258159e-01, 8.77574035e-01, 8.68689817e-01, 8.45521501e-01],\n        [1.27817466e-01, 3.11342160e-01, 5.15266883e-01, 1.53512698e-01,\n         7.27958220e-01, 3.49673649e-01, 2.58458318e-01, 3.53690951e-01,\n         9.13992001e-01, 4.53980882e-01, 1.64446971e-01, 8.61404841e-02,\n         8.52044949e-01, 1.02700238e-01, 9.36259950e-01, 5.36931873e-01],\n        [3.33988599e-01, 8.96757714e-01, 7.32093146e-01, 1.40580345e-01,\n         8.36521468e-01, 9.53819091e-01, 4.11580198e-01, 5.85221120e-01,\n         2.51140942e-01, 3.18111597e-01, 2.86689571e-01, 7.09061759e-01,\n         1.54653195e-01, 9.18205510e-01, 2.99010138e-01, 7.00247892e-01],\n        [7.76616488e-01, 5.46248355e-01, 4.51783134e-01, 4.09960114e-01,\n         7.48820331e-01, 1.74566678e-01, 3.36202891e-01, 4.34084202e-01,\n         9.62356699e-01, 4.46214597e-01, 5.04254100e-01, 8.68348977e-01,\n         8.41830421e-01, 6.48325792e-01, 5.72004228e-01, 1.05673906e-01],\n        [6.30752625e-02, 2.90620545e-01, 2.13573775e-01, 4.33739807e-02,\n         2.98015888e-01, 5.07915742e-01, 1.54789135e-02, 5.04618333e-03,\n         2.03993711e-01, 8.07554873e-01, 1.01310162e-01, 2.30108910e-01,\n         4.90582557e-01, 2.06951580e-01, 8.25452154e-01, 5.43579423e-01],\n        [5.55762097e-01, 4.00735696e-01, 1.47099182e-01, 4.29736480e-01,\n         5.31315249e-01, 7.23340509e-01, 3.00660047e-01, 2.32568767e-01,\n         7.84690154e-02, 3.91500403e-01, 7.40622096e-01, 3.57185830e-01,\n         6.30193478e-01, 5.01614765e-01, 7.15628484e-01, 5.80431496e-01],\n        [9.99891964e-01, 5.47936186e-01, 4.35008516e-01, 9.17808126e-01,\n         2.72606118e-01, 4.15504724e-01, 2.96366048e-01, 6.46442804e-01,\n         3.45436658e-01, 5.08153151e-01, 4.01954517e-01, 4.35369033e-01,\n         2.29311915e-01, 6.18480168e-01, 5.17705009e-01, 7.89683777e-01],\n        [4.57161900e-01, 1.10816383e-01, 5.12752898e-01, 7.50299390e-01,\n         3.27524258e-01, 7.97617750e-01, 4.02195488e-01, 1.34759907e-02,\n         2.69006085e-01, 8.28890202e-01, 7.19540523e-01, 2.72273518e-01,\n         9.79175153e-01, 5.63937636e-01, 2.54285006e-01, 9.99204155e-01],\n        [7.85869963e-01, 2.45326877e-01, 3.87971380e-01, 8.62650625e-01,\n         7.36335732e-01, 7.33925936e-01, 9.05679096e-01, 5.87845291e-01,\n         3.75420753e-01, 9.53040284e-01, 9.12226736e-01, 3.41677779e-01,\n         3.31595218e-01, 5.69773127e-01, 7.27182013e-01, 4.73438055e-01],\n        [4.81826501e-01, 6.78589824e-01, 1.28584905e-01, 7.76141518e-01,\n         4.91517773e-01, 3.62594675e-01, 5.31555370e-01, 1.47674334e-01,\n         8.96396572e-01, 1.57684408e-01, 8.44357600e-01, 6.34134072e-01,\n         3.10951221e-01, 6.79157297e-01, 4.44825893e-01, 6.25242349e-01],\n        [2.55104390e-01, 7.27773535e-02, 8.57413913e-01, 5.77991545e-01,\n         3.44793814e-01, 9.04848941e-01, 4.37395580e-02, 5.22342662e-01,\n         5.67851797e-02, 8.70948636e-01, 2.13944505e-01, 8.54826430e-01,\n         7.89446886e-01, 6.26626400e-01, 2.42700418e-01, 4.89994890e-01],\n        [9.21893296e-01, 1.86196387e-01, 9.57340995e-01, 3.21204398e-01,\n         5.21978912e-01, 5.56854864e-02, 9.46866919e-01, 8.58788359e-01,\n         8.62681429e-01, 2.45037627e-01, 4.86443280e-01, 4.24112251e-02,\n         5.88516915e-01, 4.90165552e-01, 8.14858889e-01, 9.45076200e-01],\n        [3.71271599e-01, 9.53258185e-01, 4.87375136e-01, 2.22706131e-01,\n         5.98775032e-01, 4.67005135e-01, 6.03229845e-01, 5.75663086e-01,\n         1.81703467e-01, 4.23105999e-04, 4.82784848e-01, 8.15975282e-01,\n         6.99605867e-02, 4.16233618e-01, 1.01892637e-01, 6.42771661e-01],\n        [7.39918101e-01, 5.39241406e-01, 9.89235992e-01, 3.45497242e-01,\n         2.99811343e-01, 9.11718564e-01, 8.32834888e-01, 4.62465849e-01,\n         5.95711268e-01, 4.05478862e-01, 5.44646072e-01, 9.85128722e-01,\n         6.58503214e-01, 3.56489268e-01, 9.07928863e-01, 7.71313372e-01],\n        [7.97370756e-01, 7.73228903e-01, 2.09423194e-01, 8.53037034e-01,\n         8.01888107e-01, 1.65955711e-01, 1.30642878e-01, 5.35678909e-01,\n         8.97500690e-01, 7.00811435e-01, 6.08299975e-01, 7.01283522e-01,\n         9.46422589e-01, 9.54453225e-01, 7.03717895e-01, 2.50761210e-01],\n        [2.24238741e-01, 1.49606072e-01, 4.78751249e-01, 2.61276124e-02,\n         3.53191286e-01, 2.54683813e-01, 2.79332370e-01, 2.86611897e-01,\n         7.16937971e-01, 3.68128240e-02, 3.94962632e-01, 9.98653372e-01,\n         7.98511806e-01, 7.84163491e-01, 9.65388326e-01, 6.12731718e-01],\n        [9.53557442e-01, 3.59162899e-01, 8.41335510e-01, 9.26587595e-01,\n         9.74596034e-01, 5.59142497e-02, 1.82306880e-01, 1.90803091e-01,\n         1.95299439e-01, 4.60972149e-01, 6.30609922e-01, 5.27451305e-01,\n         3.10644227e-01, 1.03796227e-01, 9.63214938e-01, 4.51898683e-01],\n        [2.79961637e-01, 3.68452757e-01, 3.57641299e-01, 1.53836776e-01,\n         4.51338060e-01, 3.03755033e-01, 7.06258612e-01, 9.57199623e-01,\n         2.06813180e-01, 4.91930635e-01, 8.43162433e-01, 7.99407927e-01,\n         1.95009808e-01, 6.38954640e-01, 9.90353052e-01, 2.44356929e-02],\n        [5.28991448e-01, 2.70280062e-01, 5.52160306e-01, 9.84251330e-01,\n         2.51789403e-01, 1.14142387e-01, 9.82549365e-01, 7.05981262e-01,\n         9.78356842e-01, 2.67344642e-02, 3.01355009e-01, 6.72567759e-01,\n         7.51798284e-01, 1.30832866e-01, 2.94972150e-01, 9.07238017e-01],\n        [5.81831201e-01, 8.18435413e-01, 2.57750988e-02, 4.72179996e-01,\n         8.78765400e-01, 5.99054544e-01, 3.70322392e-01, 6.21066128e-01,\n         3.93708419e-01, 9.50979997e-01, 9.63788391e-01, 1.62808457e-01,\n         8.02764707e-01, 4.68430400e-01, 9.21825603e-01, 5.21040489e-01]]),\n array([[0.84022794, 0.24599293, 0.14444278, 0.55972042, 0.66552187,\n         0.78572405, 0.0545262 , 0.13527408, 0.52435737, 0.97602244,\n         0.74075747, 0.0602338 , 0.25585967, 0.71054928, 0.89893083,\n         0.34941521, 0.89026862, 0.79223325, 0.33132966, 0.40290199,\n         0.52919088, 0.33372533, 0.77065109, 0.85484764, 0.98926148,\n         0.45934923, 0.53376618, 0.24519754, 0.36711163, 0.34398433,\n         0.84989651, 0.3407798 ],\n        [0.64332122, 0.59906193, 0.32349759, 0.33445901, 0.17435324,\n         0.26478037, 0.24979187, 0.45847073, 0.76320517, 0.39399847,\n         0.57060552, 0.12113265, 0.94477005, 0.75877813, 0.88336879,\n         0.15221557, 0.5767364 , 0.18722558, 0.90909865, 0.36307852,\n         0.30116446, 0.58047984, 0.00459719, 0.02382169, 0.1970182 ,\n         0.55048169, 0.42191577, 0.34934875, 0.68219226, 0.12970926,\n         0.08822637, 0.43288834]]))"
     },
     "execution_count": 7,
     "metadata": {},
     "output_type": "execute_result"
    }
   ],
   "source": [
    "w1, w2, w3 = [np.random.rand(*shape) for shape in [(16, 16), (32, 16), (2, 32)]]\n",
    "w1, w2, w3"
   ]
  },
  {
   "cell_type": "code",
   "execution_count": 8,
   "id": "d1ab80e3020ca021",
   "metadata": {
    "collapsed": false,
    "ExecuteTime": {
     "end_time": "2023-11-19T00:14:58.453438800Z",
     "start_time": "2023-11-19T00:14:58.432169400Z"
    }
   },
   "outputs": [
    {
     "data": {
      "text/plain": "array([[587.19426929, 465.81360283],\n       [580.75958977, 462.36828476],\n       [562.52581992, 447.00342931],\n       [679.34113503, 540.11173193]])"
     },
     "execution_count": 8,
     "metadata": {},
     "output_type": "execute_result"
    }
   ],
   "source": [
    "result = ((x @ w1.T) @ w2.T) @ w3.T # Result of forward pass\n",
    "result"
   ]
  },
  {
   "cell_type": "markdown",
   "id": "af790728811876d9",
   "metadata": {
    "collapsed": false
   },
   "source": [
    "# (Bonus)"
   ]
  },
  {
   "cell_type": "code",
   "execution_count": 9,
   "id": "8722c9cf993d394f",
   "metadata": {
    "collapsed": false,
    "ExecuteTime": {
     "end_time": "2023-11-19T00:14:58.464461200Z",
     "start_time": "2023-11-19T00:14:58.452438300Z"
    }
   },
   "outputs": [],
   "source": [
    "fourByFour = np.random.rand(4, 4)"
   ]
  },
  {
   "cell_type": "code",
   "execution_count": 10,
   "id": "ff8b38d9a64dc9e3",
   "metadata": {
    "collapsed": false,
    "ExecuteTime": {
     "end_time": "2023-11-19T00:14:58.523233500Z",
     "start_time": "2023-11-19T00:14:58.479017800Z"
    }
   },
   "outputs": [
    {
     "data": {
      "text/plain": "(array([ 1.94227321+0.j        , -0.3636813 +0.15271295j,\n        -0.3636813 -0.15271295j,  0.35727011+0.j        ]),\n array([[ 0.37200088+0.j        ,  0.21691123-0.34085894j,\n          0.21691123+0.34085894j, -0.03740812+0.j        ],\n        [ 0.79077668+0.j        , -0.51136226-0.09386243j,\n         -0.51136226+0.09386243j, -0.83404175+0.j        ],\n        [ 0.36504887+0.j        , -0.16357208+0.29463928j,\n         -0.16357208-0.29463928j,  0.52596946+0.j        ],\n        [ 0.32097804+0.j        ,  0.67297478+0.j        ,\n          0.67297478-0.j        , -0.16226867+0.j        ]]))"
     },
     "execution_count": 10,
     "metadata": {},
     "output_type": "execute_result"
    }
   ],
   "source": [
    "eigenvalues, eigenvectors = np.linalg.eig(fourByFour)\n",
    "eigenvalues, eigenvectors"
   ]
  },
  {
   "cell_type": "markdown",
   "id": "fefa9d9d2bc89d1c",
   "metadata": {
    "collapsed": false
   },
   "source": [
    "# Exercise 2"
   ]
  },
  {
   "cell_type": "markdown",
   "id": "278e374862a8031",
   "metadata": {
    "collapsed": false
   },
   "source": [
    "## Part1"
   ]
  },
  {
   "cell_type": "code",
   "execution_count": 11,
   "id": "ba9226b44885c410",
   "metadata": {
    "collapsed": false,
    "ExecuteTime": {
     "end_time": "2023-11-19T00:14:59.374267700Z",
     "start_time": "2023-11-19T00:14:58.483024500Z"
    }
   },
   "outputs": [],
   "source": [
    "import json\n",
    "import torch\n",
    "from torch.utils.data import Dataset, DataLoader\n",
    "\n",
    "device = torch.device(\"cuda\")"
   ]
  },
  {
   "cell_type": "code",
   "execution_count": 12,
   "id": "4d4da2f40778c073",
   "metadata": {
    "collapsed": false,
    "ExecuteTime": {
     "end_time": "2023-11-19T00:14:59.382361500Z",
     "start_time": "2023-11-19T00:14:59.379275200Z"
    }
   },
   "outputs": [],
   "source": [
    "class CustomDataset(Dataset):\n",
    "    def __init__(self, json_file, train=True, transform=None):\n",
    "        with open(json_file, 'r') as f:\n",
    "            data = json.load(f)\n",
    "\n",
    "        # Split data into training and testing datasets\n",
    "        split_ratio = 0.8\n",
    "        split_index = int(len(data) * split_ratio)\n",
    "        if train:\n",
    "            self.data = data[:split_index]\n",
    "        else:\n",
    "            self.data = data[split_index:]\n",
    "\n",
    "        self.transform = transform\n",
    "\n",
    "    def __len__(self):\n",
    "        return len(self.data)\n",
    "\n",
    "    def __getitem__(self, idx):\n",
    "        sample = self.data[idx]\n",
    "\n",
    "        if self.transform:\n",
    "            sample = self.transform(sample)\n",
    "\n",
    "        return sample"
   ]
  },
  {
   "cell_type": "code",
   "execution_count": 13,
   "id": "3860cb6294c4e49b",
   "metadata": {
    "collapsed": false,
    "ExecuteTime": {
     "end_time": "2023-11-19T00:14:59.405912200Z",
     "start_time": "2023-11-19T00:14:59.382361500Z"
    }
   },
   "outputs": [],
   "source": [
    "def custom_collate_fn(batch):\n",
    "    max_seq_len = max(len(sample['tokens']) for sample in batch)\n",
    "\n",
    "    padded_inputs = []\n",
    "    labels = []\n",
    "    for sample in batch:\n",
    "        input_sequence = sample['tokens']\n",
    "        label = sample['label']\n",
    "\n",
    "        padding = [0] * (max_seq_len - len(input_sequence))\n",
    "        padded_input_sequence = input_sequence + padding\n",
    "\n",
    "        padded_inputs.append(padded_input_sequence)\n",
    "        labels.append(label)\n",
    "\n",
    "    inputs = torch.tensor(padded_inputs)\n",
    "    labels = torch.tensor(labels)\n",
    "\n",
    "    return inputs, labels\n"
   ]
  },
  {
   "cell_type": "code",
   "execution_count": 14,
   "id": "31f45daa52fc8c6a",
   "metadata": {
    "collapsed": false,
    "ExecuteTime": {
     "end_time": "2023-11-19T00:14:59.442355700Z",
     "start_time": "2023-11-19T00:14:59.397402300Z"
    }
   },
   "outputs": [],
   "source": [
    "class CustomDataLoader(DataLoader):\n",
    "    def __init__(self, dataset, batch_size=1, shuffle=False, sampler=None, batch_sampler=None, num_workers=0, collate_fn=None):\n",
    "        super(CustomDataLoader, self).__init__(\n",
    "            dataset, batch_size, shuffle, sampler, batch_sampler, num_workers, collate_fn\n",
    "        )\n",
    "\n",
    "    def __iter__(self):\n",
    "        for batch in super(CustomDataLoader, self).__iter__():\n",
    "            yield batch"
   ]
  },
  {
   "cell_type": "code",
   "execution_count": 15,
   "id": "75610ac1a93f7dc1",
   "metadata": {
    "collapsed": false,
    "ExecuteTime": {
     "end_time": "2023-11-19T00:14:59.606280500Z",
     "start_time": "2023-11-19T00:14:59.417727900Z"
    }
   },
   "outputs": [],
   "source": [
    "dataset_path = './data/Dataset1/data.json'\n",
    "\n",
    "train_dataset = CustomDataset(dataset_path, train=True)\n",
    "train_loader = CustomDataLoader(train_dataset, batch_size=32, shuffle=True, collate_fn=custom_collate_fn)\n",
    "\n",
    "for batch in train_loader:\n",
    "    inputs, outputs = batch\n",
    "    \n",
    "test_dataset = CustomDataset(dataset_path, train=False)\n",
    "test_loader = CustomDataLoader(train_dataset, batch_size=32, shuffle=True, collate_fn=custom_collate_fn)\n",
    "\n",
    "for batch in test_loader:\n",
    "    inputs, outputs = batch"
   ]
  },
  {
   "cell_type": "markdown",
   "id": "2c4d07e4cbac297d",
   "metadata": {
    "collapsed": false
   },
   "source": [
    "## Part 2"
   ]
  },
  {
   "cell_type": "code",
   "execution_count": 16,
   "id": "532b689355e2f157",
   "metadata": {
    "collapsed": false,
    "ExecuteTime": {
     "end_time": "2023-11-19T00:14:59.611280200Z",
     "start_time": "2023-11-19T00:14:59.606280500Z"
    }
   },
   "outputs": [],
   "source": [
    "import pandas as pd"
   ]
  },
  {
   "cell_type": "code",
   "execution_count": 31,
   "id": "b3cf7d285c65244e",
   "metadata": {
    "collapsed": false,
    "ExecuteTime": {
     "end_time": "2023-11-19T00:24:34.209548100Z",
     "start_time": "2023-11-19T00:24:33.060373500Z"
    }
   },
   "outputs": [],
   "source": [
    "class SickDataset(Dataset):\n",
    "    def __init__(self, csv_file, train=True):\n",
    "        self.data = pd.read_csv(csv_file)\n",
    "        self.train = train\n",
    "\n",
    "    def __len__(self):\n",
    "        return len(self.data)\n",
    "\n",
    "    def __getitem__(self, idx):\n",
    "        # Select numeric columns and convert to tensor\n",
    "        numeric_inputs = torch.tensor(self.data.select_dtypes(include=['float', 'int']).iloc[idx, :].values, dtype=torch.float32).to(device)\n",
    "    \n",
    "        # Select categorical columns, apply one-hot encoding, and convert to tensor\n",
    "        categorical_inputs = torch.tensor(pd.get_dummies(self.data.select_dtypes(include=['object']).iloc[idx, :].values).values, dtype=torch.float32).to(device)\n",
    "    \n",
    "        # Reshape tensors to handle the case where they are one-dimensional\n",
    "        numeric_inputs = numeric_inputs.view(-1, numeric_inputs.shape[0])\n",
    "        categorical_inputs = categorical_inputs.view(-1, categorical_inputs.shape[0])\n",
    "    \n",
    "        # Concatenate numeric and categorical tensors\n",
    "        inputs = torch.cat((numeric_inputs, categorical_inputs), dim=1).to(device)\n",
    "    \n",
    "        # Apply one-hot encoding to the entire target column\n",
    "        target_column = pd.get_dummies(self.data.iloc[:, -1].values)\n",
    "    \n",
    "        # Extract the one-hot encoded vector for the current index\n",
    "        target = torch.tensor(target_column.iloc[idx, :].values, dtype=torch.float32).to(device)\n",
    "    \n",
    "        return inputs, target\n",
    "\n",
    "class SickDataLoader(DataLoader):\n",
    "    def __init__(self, dataset, batch_size=1, shuffle=False, num_workers=0):\n",
    "        super(SickDataLoader, self).__init__(dataset, batch_size=batch_size, shuffle=shuffle, num_workers=num_workers)\n",
    "\n",
    "    def __iter__(self):\n",
    "        for batch in super(SickDataLoader, self).__iter__():\n",
    "            inputs, outputs = zip(*batch)\n",
    "            yield torch.stack(inputs).to(device), torch.stack(outputs).to(device)\n",
    "\n",
    "sick_dataset_path = './data/Dataset2/data.csv'\n",
    "\n",
    "sick_dataset = SickDataset(sick_dataset_path, train=True)\n",
    "\n",
    "custom_dataloader = CustomDataLoader(sick_dataset, batch_size=32, shuffle=True)\n",
    "\n",
    "for batch in custom_dataloader:\n",
    "    inputs, outputs = batch"
   ]
  },
  {
   "cell_type": "code",
   "execution_count": 17,
   "outputs": [],
   "source": [],
   "metadata": {
    "collapsed": false,
    "ExecuteTime": {
     "end_time": "2023-11-19T00:15:00.822302600Z",
     "start_time": "2023-11-19T00:15:00.822302600Z"
    }
   },
   "id": "170a589135e67081"
  }
 ],
 "metadata": {
  "kernelspec": {
   "display_name": "Python 3 (ipykernel)",
   "language": "python",
   "name": "python3"
  },
  "language_info": {
   "codemirror_mode": {
    "name": "ipython",
    "version": 3
   },
   "file_extension": ".py",
   "mimetype": "text/x-python",
   "name": "python",
   "nbconvert_exporter": "python",
   "pygments_lexer": "ipython3",
   "version": "3.9.18"
  }
 },
 "nbformat": 4,
 "nbformat_minor": 5
}
