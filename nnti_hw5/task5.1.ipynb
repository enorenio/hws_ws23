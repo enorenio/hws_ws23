{
 "cells": [
  {
   "cell_type": "code",
   "execution_count": null,
   "outputs": [],
   "source": [
    "packages_to_install = [\"scikit-learn\", \"numpy=1.24.0\", \"scipy\", \"matplotlib\", \"pandas\"]"
   ],
   "metadata": {
    "collapsed": false
   },
   "id": "929be23c5d991ef1"
  },
  {
   "cell_type": "code",
   "execution_count": null,
   "outputs": [],
   "source": [
    "!conda config --add channels conda-forge"
   ],
   "metadata": {
    "collapsed": false
   },
   "id": "d0d1ecf0f0bb2cbb"
  },
  {
   "cell_type": "code",
   "execution_count": null,
   "outputs": [],
   "source": [
    "%%time\n",
    "import importlib\n",
    "\n",
    "for package_name in packages_to_install:\n",
    "    try:\n",
    "        importlib.import_module(package_name)\n",
    "        print(f\"{package_name} is already installed.\")\n",
    "    except ImportError:\n",
    "        print(f\"{package_name} is not installed. Installing it now...\")\n",
    "        !conda install -y {package_name}"
   ],
   "metadata": {
    "collapsed": false
   },
   "id": "d3c16ab0f78a4418"
  },
  {
   "cell_type": "code",
   "execution_count": null,
   "outputs": [],
   "source": [
    "import matplotlib.pyplot as plt\n",
    "import pandas as pd\n",
    "from sklearn.datasets import make_circles\n",
    "import numpy as np"
   ],
   "metadata": {
    "collapsed": false
   },
   "id": "611880a53be93a0a"
  },
  {
   "cell_type": "code",
   "execution_count": null,
   "id": "initial_id",
   "metadata": {
    "collapsed": true
   },
   "outputs": [],
   "source": [
    "def f(x1, x2, a, b):\n",
    "    return (a - x1)**2 + b * (x2 - x1**2)**2\n",
    "\n",
    "def gradient(x1, x2, a, b):\n",
    "    df_dx1 = -2 * (a - x1) - 4 * b * (x2 - x1**2) * x1\n",
    "    df_dx2 = 2 * b * (x2 - x1**2)\n",
    "    return np.array([df_dx1, df_dx2])\n",
    "\n",
    "def gradient_descent(initial_x1, initial_x2, a, b, learning_rate, max_iterations):\n",
    "    x1 = initial_x1\n",
    "    x2 = initial_x2\n",
    "\n",
    "    for i in range(max_iterations):\n",
    "        grad = gradient(x1, x2, a, b)\n",
    "        x1 -= learning_rate * grad[0]\n",
    "        x2 -= learning_rate * grad[1]\n",
    "\n",
    "        print(f\"Iteration {i + 1}:\")\n",
    "        print(f\"  x = [{x1}, {x2}]\")\n",
    "        print(f\"  Gradient of f(x) = {grad}\")\n",
    "        print(f\"  f(x) = {f(x1, x2, a, b)}\")\n",
    "\n",
    "        if np.all(np.abs(grad) < 1e-4):\n",
    "            print(\"Gradient is close to zero. Converged.\")\n",
    "            break\n",
    "\n",
    "    return x1, x2\n",
    "\n",
    "a_value = 1\n",
    "b_value = 100\n",
    "initial_x1_value = 0.9\n",
    "initial_x2_value = 1.12\n",
    "learning_rate_value = 0.0001\n",
    "max_iterations_value = 3\n",
    "\n",
    "result_x1, result_x2 = gradient_descent(initial_x1_value, initial_x2_value, a_value, b_value, learning_rate_value, max_iterations_value)\n",
    "\n",
    "initial_f_value = f(initial_x1_value, initial_x2_value, a_value, b_value)\n",
    "result_f_value = f(result_x1, result_x2, a_value, b_value)\n",
    "\n",
    "print(\"\\nOptimal values:\")\n",
    "print(f\"x = [{result_x1}, {result_x2}]\")\n",
    "print(f\"Minimum value of f(x): {result_f_value}\")\n",
    "\n",
    "print(\"\\nComparison:\")\n",
    "print(f\"f(x_0): {initial_f_value}\")\n",
    "print(f\"f(x): {result_f_value}\")"
   ]
  }
 ],
 "metadata": {
  "kernelspec": {
   "display_name": "Python 3",
   "language": "python",
   "name": "python3"
  },
  "language_info": {
   "codemirror_mode": {
    "name": "ipython",
    "version": 2
   },
   "file_extension": ".py",
   "mimetype": "text/x-python",
   "name": "python",
   "nbconvert_exporter": "python",
   "pygments_lexer": "ipython2",
   "version": "2.7.6"
  }
 },
 "nbformat": 4,
 "nbformat_minor": 5
}
